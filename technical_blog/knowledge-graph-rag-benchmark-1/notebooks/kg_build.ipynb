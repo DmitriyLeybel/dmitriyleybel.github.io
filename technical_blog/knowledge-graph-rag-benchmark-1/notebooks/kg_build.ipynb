{
 "cells": [
  {
   "cell_type": "code",
   "execution_count": 35,
   "metadata": {},
   "outputs": [],
   "source": [
    "from langchain.text_splitter import RecursiveCharacterTextSplitter\n",
    "from jsonlines import jsonlines\n",
    "\n",
    "from IPython.display import display, Markdown\n",
    "from pprint import pprint\n"
   ]
  },
  {
   "cell_type": "code",
   "execution_count": 36,
   "metadata": {},
   "outputs": [],
   "source": [
    "musique_dir = '../musique/musique/'\n"
   ]
  },
  {
   "cell_type": "code",
   "execution_count": 37,
   "metadata": {},
   "outputs": [
    {
     "data": {
      "application/javascript": "(function(root) {\n  function now() {\n    return new Date();\n  }\n\n  var force = true;\n  var py_version = '3.4.0'.replace('rc', '-rc.').replace('.dev', '-dev.');\n  var reloading = false;\n  var Bokeh = root.Bokeh;\n\n  if (typeof (root._bokeh_timeout) === \"undefined\" || force) {\n    root._bokeh_timeout = Date.now() + 5000;\n    root._bokeh_failed_load = false;\n  }\n\n  function run_callbacks() {\n    try {\n      root._bokeh_onload_callbacks.forEach(function(callback) {\n        if (callback != null)\n          callback();\n      });\n    } finally {\n      delete root._bokeh_onload_callbacks;\n    }\n    console.debug(\"Bokeh: all callbacks have finished\");\n  }\n\n  function load_libs(css_urls, js_urls, js_modules, js_exports, callback) {\n    if (css_urls == null) css_urls = [];\n    if (js_urls == null) js_urls = [];\n    if (js_modules == null) js_modules = [];\n    if (js_exports == null) js_exports = {};\n\n    root._bokeh_onload_callbacks.push(callback);\n\n    if (root._bokeh_is_loading > 0) {\n      console.debug(\"Bokeh: BokehJS is being loaded, scheduling callback at\", now());\n      return null;\n    }\n    if (js_urls.length === 0 && js_modules.length === 0 && Object.keys(js_exports).length === 0) {\n      run_callbacks();\n      return null;\n    }\n    if (!reloading) {\n      console.debug(\"Bokeh: BokehJS not loaded, scheduling load and callback at\", now());\n    }\n\n    function on_load() {\n      root._bokeh_is_loading--;\n      if (root._bokeh_is_loading === 0) {\n        console.debug(\"Bokeh: all BokehJS libraries/stylesheets loaded\");\n        run_callbacks()\n      }\n    }\n    window._bokeh_on_load = on_load\n\n    function on_error() {\n      console.error(\"failed to load \" + url);\n    }\n\n    var skip = [];\n    if (window.requirejs) {\n      window.requirejs.config({'packages': {}, 'paths': {}, 'shim': {}});\n      root._bokeh_is_loading = css_urls.length + 0;\n    } else {\n      root._bokeh_is_loading = css_urls.length + js_urls.length + js_modules.length + Object.keys(js_exports).length;\n    }\n\n    var existing_stylesheets = []\n    var links = document.getElementsByTagName('link')\n    for (var i = 0; i < links.length; i++) {\n      var link = links[i]\n      if (link.href != null) {\n\texisting_stylesheets.push(link.href)\n      }\n    }\n    for (var i = 0; i < css_urls.length; i++) {\n      var url = css_urls[i];\n      if (existing_stylesheets.indexOf(url) !== -1) {\n\ton_load()\n\tcontinue;\n      }\n      const element = document.createElement(\"link\");\n      element.onload = on_load;\n      element.onerror = on_error;\n      element.rel = \"stylesheet\";\n      element.type = \"text/css\";\n      element.href = url;\n      console.debug(\"Bokeh: injecting link tag for BokehJS stylesheet: \", url);\n      document.body.appendChild(element);\n    }    var existing_scripts = []\n    var scripts = document.getElementsByTagName('script')\n    for (var i = 0; i < scripts.length; i++) {\n      var script = scripts[i]\n      if (script.src != null) {\n\texisting_scripts.push(script.src)\n      }\n    }\n    for (var i = 0; i < js_urls.length; i++) {\n      var url = js_urls[i];\n      if (skip.indexOf(url) !== -1 || existing_scripts.indexOf(url) !== -1) {\n\tif (!window.requirejs) {\n\t  on_load();\n\t}\n\tcontinue;\n      }\n      var element = document.createElement('script');\n      element.onload = on_load;\n      element.onerror = on_error;\n      element.async = false;\n      element.src = url;\n      console.debug(\"Bokeh: injecting script tag for BokehJS library: \", url);\n      document.head.appendChild(element);\n    }\n    for (var i = 0; i < js_modules.length; i++) {\n      var url = js_modules[i];\n      if (skip.indexOf(url) !== -1 || existing_scripts.indexOf(url) !== -1) {\n\tif (!window.requirejs) {\n\t  on_load();\n\t}\n\tcontinue;\n      }\n      var element = document.createElement('script');\n      element.onload = on_load;\n      element.onerror = on_error;\n      element.async = false;\n      element.src = url;\n      element.type = \"module\";\n      console.debug(\"Bokeh: injecting script tag for BokehJS library: \", url);\n      document.head.appendChild(element);\n    }\n    for (const name in js_exports) {\n      var url = js_exports[name];\n      if (skip.indexOf(url) >= 0 || root[name] != null) {\n\tif (!window.requirejs) {\n\t  on_load();\n\t}\n\tcontinue;\n      }\n      var element = document.createElement('script');\n      element.onerror = on_error;\n      element.async = false;\n      element.type = \"module\";\n      console.debug(\"Bokeh: injecting script tag for BokehJS library: \", url);\n      element.textContent = `\n      import ${name} from \"${url}\"\n      window.${name} = ${name}\n      window._bokeh_on_load()\n      `\n      document.head.appendChild(element);\n    }\n    if (!js_urls.length && !js_modules.length) {\n      on_load()\n    }\n  };\n\n  function inject_raw_css(css) {\n    const element = document.createElement(\"style\");\n    element.appendChild(document.createTextNode(css));\n    document.body.appendChild(element);\n  }\n\n  var js_urls = [\"https://cdn.bokeh.org/bokeh/release/bokeh-3.4.0.min.js\", \"https://cdn.bokeh.org/bokeh/release/bokeh-gl-3.4.0.min.js\", \"https://cdn.bokeh.org/bokeh/release/bokeh-widgets-3.4.0.min.js\", \"https://cdn.bokeh.org/bokeh/release/bokeh-tables-3.4.0.min.js\", \"https://cdn.holoviz.org/panel/1.4.0/dist/panel.min.js\"];\n  var js_modules = [];\n  var js_exports = {};\n  var css_urls = [];\n  var inline_js = [    function(Bokeh) {\n      Bokeh.set_log_level(\"info\");\n    },\nfunction(Bokeh) {} // ensure no trailing comma for IE\n  ];\n\n  function run_inline_js() {\n    if ((root.Bokeh !== undefined) || (force === true)) {\n      for (var i = 0; i < inline_js.length; i++) {\n\ttry {\n          inline_js[i].call(root, root.Bokeh);\n\t} catch(e) {\n\t  if (!reloading) {\n\t    throw e;\n\t  }\n\t}\n      }\n      // Cache old bokeh versions\n      if (Bokeh != undefined && !reloading) {\n\tvar NewBokeh = root.Bokeh;\n\tif (Bokeh.versions === undefined) {\n\t  Bokeh.versions = new Map();\n\t}\n\tif (NewBokeh.version !== Bokeh.version) {\n\t  Bokeh.versions.set(NewBokeh.version, NewBokeh)\n\t}\n\troot.Bokeh = Bokeh;\n      }} else if (Date.now() < root._bokeh_timeout) {\n      setTimeout(run_inline_js, 100);\n    } else if (!root._bokeh_failed_load) {\n      console.log(\"Bokeh: BokehJS failed to load within specified timeout.\");\n      root._bokeh_failed_load = true;\n    }\n    root._bokeh_is_initializing = false\n  }\n\n  function load_or_wait() {\n    // Implement a backoff loop that tries to ensure we do not load multiple\n    // versions of Bokeh and its dependencies at the same time.\n    // In recent versions we use the root._bokeh_is_initializing flag\n    // to determine whether there is an ongoing attempt to initialize\n    // bokeh, however for backward compatibility we also try to ensure\n    // that we do not start loading a newer (Panel>=1.0 and Bokeh>3) version\n    // before older versions are fully initialized.\n    if (root._bokeh_is_initializing && Date.now() > root._bokeh_timeout) {\n      root._bokeh_is_initializing = false;\n      root._bokeh_onload_callbacks = undefined;\n      console.log(\"Bokeh: BokehJS was loaded multiple times but one version failed to initialize.\");\n      load_or_wait();\n    } else if (root._bokeh_is_initializing || (typeof root._bokeh_is_initializing === \"undefined\" && root._bokeh_onload_callbacks !== undefined)) {\n      setTimeout(load_or_wait, 100);\n    } else {\n      root._bokeh_is_initializing = true\n      root._bokeh_onload_callbacks = []\n      var bokeh_loaded = Bokeh != null && (Bokeh.version === py_version || (Bokeh.versions !== undefined && Bokeh.versions.has(py_version)));\n      if (!reloading && !bokeh_loaded) {\n\troot.Bokeh = undefined;\n      }\n      load_libs(css_urls, js_urls, js_modules, js_exports, function() {\n\tconsole.debug(\"Bokeh: BokehJS plotting callback run at\", now());\n\trun_inline_js();\n      });\n    }\n  }\n  // Give older versions of the autoload script a head-start to ensure\n  // they initialize before we start loading newer version.\n  setTimeout(load_or_wait, 100)\n}(window));",
      "application/vnd.holoviews_load.v0+json": ""
     },
     "metadata": {},
     "output_type": "display_data"
    },
    {
     "data": {
      "application/javascript": "\nif ((window.PyViz === undefined) || (window.PyViz instanceof HTMLElement)) {\n  window.PyViz = {comms: {}, comm_status:{}, kernels:{}, receivers: {}, plot_index: []}\n}\n\n\n    function JupyterCommManager() {\n    }\n\n    JupyterCommManager.prototype.register_target = function(plot_id, comm_id, msg_handler) {\n      if (window.comm_manager || ((window.Jupyter !== undefined) && (Jupyter.notebook.kernel != null))) {\n        var comm_manager = window.comm_manager || Jupyter.notebook.kernel.comm_manager;\n        comm_manager.register_target(comm_id, function(comm) {\n          comm.on_msg(msg_handler);\n        });\n      } else if ((plot_id in window.PyViz.kernels) && (window.PyViz.kernels[plot_id])) {\n        window.PyViz.kernels[plot_id].registerCommTarget(comm_id, function(comm) {\n          comm.onMsg = msg_handler;\n        });\n      } else if (typeof google != 'undefined' && google.colab.kernel != null) {\n        google.colab.kernel.comms.registerTarget(comm_id, (comm) => {\n          var messages = comm.messages[Symbol.asyncIterator]();\n          function processIteratorResult(result) {\n            var message = result.value;\n            console.log(message)\n            var content = {data: message.data, comm_id};\n            var buffers = []\n            for (var buffer of message.buffers || []) {\n              buffers.push(new DataView(buffer))\n            }\n            var metadata = message.metadata || {};\n            var msg = {content, buffers, metadata}\n            msg_handler(msg);\n            return messages.next().then(processIteratorResult);\n          }\n          return messages.next().then(processIteratorResult);\n        })\n      }\n    }\n\n    JupyterCommManager.prototype.get_client_comm = function(plot_id, comm_id, msg_handler) {\n      if (comm_id in window.PyViz.comms) {\n        return window.PyViz.comms[comm_id];\n      } else if (window.comm_manager || ((window.Jupyter !== undefined) && (Jupyter.notebook.kernel != null))) {\n        var comm_manager = window.comm_manager || Jupyter.notebook.kernel.comm_manager;\n        var comm = comm_manager.new_comm(comm_id, {}, {}, {}, comm_id);\n        if (msg_handler) {\n          comm.on_msg(msg_handler);\n        }\n      } else if ((plot_id in window.PyViz.kernels) && (window.PyViz.kernels[plot_id])) {\n        var comm = window.PyViz.kernels[plot_id].connectToComm(comm_id);\n        comm.open();\n        if (msg_handler) {\n          comm.onMsg = msg_handler;\n        }\n      } else if (typeof google != 'undefined' && google.colab.kernel != null) {\n        var comm_promise = google.colab.kernel.comms.open(comm_id)\n        comm_promise.then((comm) => {\n          window.PyViz.comms[comm_id] = comm;\n          if (msg_handler) {\n            var messages = comm.messages[Symbol.asyncIterator]();\n            function processIteratorResult(result) {\n              var message = result.value;\n              var content = {data: message.data};\n              var metadata = message.metadata || {comm_id};\n              var msg = {content, metadata}\n              msg_handler(msg);\n              return messages.next().then(processIteratorResult);\n            }\n            return messages.next().then(processIteratorResult);\n          }\n        }) \n        var sendClosure = (data, metadata, buffers, disposeOnDone) => {\n          return comm_promise.then((comm) => {\n            comm.send(data, metadata, buffers, disposeOnDone);\n          });\n        };\n        var comm = {\n          send: sendClosure\n        };\n      }\n      window.PyViz.comms[comm_id] = comm;\n      return comm;\n    }\n    window.PyViz.comm_manager = new JupyterCommManager();\n    \n\n\nvar JS_MIME_TYPE = 'application/javascript';\nvar HTML_MIME_TYPE = 'text/html';\nvar EXEC_MIME_TYPE = 'application/vnd.holoviews_exec.v0+json';\nvar CLASS_NAME = 'output';\n\n/**\n * Render data to the DOM node\n */\nfunction render(props, node) {\n  var div = document.createElement(\"div\");\n  var script = document.createElement(\"script\");\n  node.appendChild(div);\n  node.appendChild(script);\n}\n\n/**\n * Handle when a new output is added\n */\nfunction handle_add_output(event, handle) {\n  var output_area = handle.output_area;\n  var output = handle.output;\n  if ((output.data == undefined) || (!output.data.hasOwnProperty(EXEC_MIME_TYPE))) {\n    return\n  }\n  var id = output.metadata[EXEC_MIME_TYPE][\"id\"];\n  var toinsert = output_area.element.find(\".\" + CLASS_NAME.split(' ')[0]);\n  if (id !== undefined) {\n    var nchildren = toinsert.length;\n    var html_node = toinsert[nchildren-1].children[0];\n    html_node.innerHTML = output.data[HTML_MIME_TYPE];\n    var scripts = [];\n    var nodelist = html_node.querySelectorAll(\"script\");\n    for (var i in nodelist) {\n      if (nodelist.hasOwnProperty(i)) {\n        scripts.push(nodelist[i])\n      }\n    }\n\n    scripts.forEach( function (oldScript) {\n      var newScript = document.createElement(\"script\");\n      var attrs = [];\n      var nodemap = oldScript.attributes;\n      for (var j in nodemap) {\n        if (nodemap.hasOwnProperty(j)) {\n          attrs.push(nodemap[j])\n        }\n      }\n      attrs.forEach(function(attr) { newScript.setAttribute(attr.name, attr.value) });\n      newScript.appendChild(document.createTextNode(oldScript.innerHTML));\n      oldScript.parentNode.replaceChild(newScript, oldScript);\n    });\n    if (JS_MIME_TYPE in output.data) {\n      toinsert[nchildren-1].children[1].textContent = output.data[JS_MIME_TYPE];\n    }\n    output_area._hv_plot_id = id;\n    if ((window.Bokeh !== undefined) && (id in Bokeh.index)) {\n      window.PyViz.plot_index[id] = Bokeh.index[id];\n    } else {\n      window.PyViz.plot_index[id] = null;\n    }\n  } else if (output.metadata[EXEC_MIME_TYPE][\"server_id\"] !== undefined) {\n    var bk_div = document.createElement(\"div\");\n    bk_div.innerHTML = output.data[HTML_MIME_TYPE];\n    var script_attrs = bk_div.children[0].attributes;\n    for (var i = 0; i < script_attrs.length; i++) {\n      toinsert[toinsert.length - 1].childNodes[1].setAttribute(script_attrs[i].name, script_attrs[i].value);\n    }\n    // store reference to server id on output_area\n    output_area._bokeh_server_id = output.metadata[EXEC_MIME_TYPE][\"server_id\"];\n  }\n}\n\n/**\n * Handle when an output is cleared or removed\n */\nfunction handle_clear_output(event, handle) {\n  var id = handle.cell.output_area._hv_plot_id;\n  var server_id = handle.cell.output_area._bokeh_server_id;\n  if (((id === undefined) || !(id in PyViz.plot_index)) && (server_id !== undefined)) { return; }\n  var comm = window.PyViz.comm_manager.get_client_comm(\"hv-extension-comm\", \"hv-extension-comm\", function () {});\n  if (server_id !== null) {\n    comm.send({event_type: 'server_delete', 'id': server_id});\n    return;\n  } else if (comm !== null) {\n    comm.send({event_type: 'delete', 'id': id});\n  }\n  delete PyViz.plot_index[id];\n  if ((window.Bokeh !== undefined) & (id in window.Bokeh.index)) {\n    var doc = window.Bokeh.index[id].model.document\n    doc.clear();\n    const i = window.Bokeh.documents.indexOf(doc);\n    if (i > -1) {\n      window.Bokeh.documents.splice(i, 1);\n    }\n  }\n}\n\n/**\n * Handle kernel restart event\n */\nfunction handle_kernel_cleanup(event, handle) {\n  delete PyViz.comms[\"hv-extension-comm\"];\n  window.PyViz.plot_index = {}\n}\n\n/**\n * Handle update_display_data messages\n */\nfunction handle_update_output(event, handle) {\n  handle_clear_output(event, {cell: {output_area: handle.output_area}})\n  handle_add_output(event, handle)\n}\n\nfunction register_renderer(events, OutputArea) {\n  function append_mime(data, metadata, element) {\n    // create a DOM node to render to\n    var toinsert = this.create_output_subarea(\n    metadata,\n    CLASS_NAME,\n    EXEC_MIME_TYPE\n    );\n    this.keyboard_manager.register_events(toinsert);\n    // Render to node\n    var props = {data: data, metadata: metadata[EXEC_MIME_TYPE]};\n    render(props, toinsert[0]);\n    element.append(toinsert);\n    return toinsert\n  }\n\n  events.on('output_added.OutputArea', handle_add_output);\n  events.on('output_updated.OutputArea', handle_update_output);\n  events.on('clear_output.CodeCell', handle_clear_output);\n  events.on('delete.Cell', handle_clear_output);\n  events.on('kernel_ready.Kernel', handle_kernel_cleanup);\n\n  OutputArea.prototype.register_mime_type(EXEC_MIME_TYPE, append_mime, {\n    safe: true,\n    index: 0\n  });\n}\n\nif (window.Jupyter !== undefined) {\n  try {\n    var events = require('base/js/events');\n    var OutputArea = require('notebook/js/outputarea').OutputArea;\n    if (OutputArea.prototype.mime_types().indexOf(EXEC_MIME_TYPE) == -1) {\n      register_renderer(events, OutputArea);\n    }\n  } catch(err) {\n  }\n}\n",
      "application/vnd.holoviews_load.v0+json": ""
     },
     "metadata": {},
     "output_type": "display_data"
    },
    {
     "data": {
      "text/html": [
       "<style>*[data-root-id],\n",
       "*[data-root-id] > * {\n",
       "  box-sizing: border-box;\n",
       "  font-family: var(--jp-ui-font-family);\n",
       "  font-size: var(--jp-ui-font-size1);\n",
       "  color: var(--vscode-editor-foreground, var(--jp-ui-font-color1));\n",
       "}\n",
       "\n",
       "/* Override VSCode background color */\n",
       ".cell-output-ipywidget-background:has(\n",
       "    > .cell-output-ipywidget-background > .lm-Widget > *[data-root-id]\n",
       "  ),\n",
       ".cell-output-ipywidget-background:has(> .lm-Widget > *[data-root-id]) {\n",
       "  background-color: transparent !important;\n",
       "}\n",
       "</style>"
      ]
     },
     "metadata": {},
     "output_type": "display_data"
    },
    {
     "data": {
      "application/vnd.holoviews_exec.v0+json": "",
      "text/html": [
       "<div id='995a9db6-4402-4620-a673-0dee8db6862b'>\n",
       "  <div id=\"f1962ea5-c22d-4292-b29d-698c5187ff67\" data-root-id=\"995a9db6-4402-4620-a673-0dee8db6862b\" style=\"display: contents;\"></div>\n",
       "</div>\n",
       "<script type=\"application/javascript\">(function(root) {\n",
       "  var docs_json = {\"091a2ce2-6898-46ad-bdab-00d4aa1cc310\":{\"version\":\"3.4.0\",\"title\":\"Bokeh Application\",\"roots\":[{\"type\":\"object\",\"name\":\"panel.models.browser.BrowserInfo\",\"id\":\"995a9db6-4402-4620-a673-0dee8db6862b\"},{\"type\":\"object\",\"name\":\"panel.models.comm_manager.CommManager\",\"id\":\"a26ae2dd-f2c0-40d1-8d86-d74994dbde7a\",\"attributes\":{\"plot_id\":\"995a9db6-4402-4620-a673-0dee8db6862b\",\"comm_id\":\"2a09e6219ae3442894837c012330fc3b\",\"client_comm_id\":\"b818c46d956f4b1d9c98da31b5988cae\"}}],\"defs\":[{\"type\":\"model\",\"name\":\"ReactiveHTML1\"},{\"type\":\"model\",\"name\":\"FlexBox1\",\"properties\":[{\"name\":\"align_content\",\"kind\":\"Any\",\"default\":\"flex-start\"},{\"name\":\"align_items\",\"kind\":\"Any\",\"default\":\"flex-start\"},{\"name\":\"flex_direction\",\"kind\":\"Any\",\"default\":\"row\"},{\"name\":\"flex_wrap\",\"kind\":\"Any\",\"default\":\"wrap\"},{\"name\":\"justify_content\",\"kind\":\"Any\",\"default\":\"flex-start\"},{\"name\":\"gap\",\"kind\":\"Any\",\"default\":\"\"}]},{\"type\":\"model\",\"name\":\"FloatPanel1\",\"properties\":[{\"name\":\"config\",\"kind\":\"Any\",\"default\":{\"type\":\"map\"}},{\"name\":\"contained\",\"kind\":\"Any\",\"default\":true},{\"name\":\"position\",\"kind\":\"Any\",\"default\":\"right-top\"},{\"name\":\"offsetx\",\"kind\":\"Any\",\"default\":null},{\"name\":\"offsety\",\"kind\":\"Any\",\"default\":null},{\"name\":\"theme\",\"kind\":\"Any\",\"default\":\"primary\"},{\"name\":\"status\",\"kind\":\"Any\",\"default\":\"normalized\"}]},{\"type\":\"model\",\"name\":\"GridStack1\",\"properties\":[{\"name\":\"mode\",\"kind\":\"Any\",\"default\":\"warn\"},{\"name\":\"ncols\",\"kind\":\"Any\",\"default\":null},{\"name\":\"nrows\",\"kind\":\"Any\",\"default\":null},{\"name\":\"allow_resize\",\"kind\":\"Any\",\"default\":true},{\"name\":\"allow_drag\",\"kind\":\"Any\",\"default\":true},{\"name\":\"state\",\"kind\":\"Any\",\"default\":[]}]},{\"type\":\"model\",\"name\":\"drag1\",\"properties\":[{\"name\":\"slider_width\",\"kind\":\"Any\",\"default\":5},{\"name\":\"slider_color\",\"kind\":\"Any\",\"default\":\"black\"},{\"name\":\"value\",\"kind\":\"Any\",\"default\":50}]},{\"type\":\"model\",\"name\":\"click1\",\"properties\":[{\"name\":\"terminal_output\",\"kind\":\"Any\",\"default\":\"\"},{\"name\":\"debug_name\",\"kind\":\"Any\",\"default\":\"\"},{\"name\":\"clears\",\"kind\":\"Any\",\"default\":0}]},{\"type\":\"model\",\"name\":\"FastWrapper1\",\"properties\":[{\"name\":\"object\",\"kind\":\"Any\",\"default\":null},{\"name\":\"style\",\"kind\":\"Any\",\"default\":null}]},{\"type\":\"model\",\"name\":\"NotificationAreaBase1\",\"properties\":[{\"name\":\"js_events\",\"kind\":\"Any\",\"default\":{\"type\":\"map\"}},{\"name\":\"position\",\"kind\":\"Any\",\"default\":\"bottom-right\"},{\"name\":\"_clear\",\"kind\":\"Any\",\"default\":0}]},{\"type\":\"model\",\"name\":\"NotificationArea1\",\"properties\":[{\"name\":\"js_events\",\"kind\":\"Any\",\"default\":{\"type\":\"map\"}},{\"name\":\"notifications\",\"kind\":\"Any\",\"default\":[]},{\"name\":\"position\",\"kind\":\"Any\",\"default\":\"bottom-right\"},{\"name\":\"_clear\",\"kind\":\"Any\",\"default\":0},{\"name\":\"types\",\"kind\":\"Any\",\"default\":[{\"type\":\"map\",\"entries\":[[\"type\",\"warning\"],[\"background\",\"#ffc107\"],[\"icon\",{\"type\":\"map\",\"entries\":[[\"className\",\"fas fa-exclamation-triangle\"],[\"tagName\",\"i\"],[\"color\",\"white\"]]}]]},{\"type\":\"map\",\"entries\":[[\"type\",\"info\"],[\"background\",\"#007bff\"],[\"icon\",{\"type\":\"map\",\"entries\":[[\"className\",\"fas fa-info-circle\"],[\"tagName\",\"i\"],[\"color\",\"white\"]]}]]}]}]},{\"type\":\"model\",\"name\":\"Notification\",\"properties\":[{\"name\":\"background\",\"kind\":\"Any\",\"default\":null},{\"name\":\"duration\",\"kind\":\"Any\",\"default\":3000},{\"name\":\"icon\",\"kind\":\"Any\",\"default\":null},{\"name\":\"message\",\"kind\":\"Any\",\"default\":\"\"},{\"name\":\"notification_type\",\"kind\":\"Any\",\"default\":null},{\"name\":\"_destroyed\",\"kind\":\"Any\",\"default\":false}]},{\"type\":\"model\",\"name\":\"TemplateActions1\",\"properties\":[{\"name\":\"open_modal\",\"kind\":\"Any\",\"default\":0},{\"name\":\"close_modal\",\"kind\":\"Any\",\"default\":0}]},{\"type\":\"model\",\"name\":\"BootstrapTemplateActions1\",\"properties\":[{\"name\":\"open_modal\",\"kind\":\"Any\",\"default\":0},{\"name\":\"close_modal\",\"kind\":\"Any\",\"default\":0}]},{\"type\":\"model\",\"name\":\"TemplateEditor1\",\"properties\":[{\"name\":\"layout\",\"kind\":\"Any\",\"default\":[]}]},{\"type\":\"model\",\"name\":\"MaterialTemplateActions1\",\"properties\":[{\"name\":\"open_modal\",\"kind\":\"Any\",\"default\":0},{\"name\":\"close_modal\",\"kind\":\"Any\",\"default\":0}]},{\"type\":\"model\",\"name\":\"copy_to_clipboard1\",\"properties\":[{\"name\":\"fill\",\"kind\":\"Any\",\"default\":\"none\"},{\"name\":\"value\",\"kind\":\"Any\",\"default\":null}]}]}};\n",
       "  var render_items = [{\"docid\":\"091a2ce2-6898-46ad-bdab-00d4aa1cc310\",\"roots\":{\"995a9db6-4402-4620-a673-0dee8db6862b\":\"f1962ea5-c22d-4292-b29d-698c5187ff67\"},\"root_ids\":[\"995a9db6-4402-4620-a673-0dee8db6862b\"]}];\n",
       "  var docs = Object.values(docs_json)\n",
       "  if (!docs) {\n",
       "    return\n",
       "  }\n",
       "  const py_version = docs[0].version.replace('rc', '-rc.').replace('.dev', '-dev.')\n",
       "  function embed_document(root) {\n",
       "    var Bokeh = get_bokeh(root)\n",
       "    Bokeh.embed.embed_items_notebook(docs_json, render_items);\n",
       "    for (const render_item of render_items) {\n",
       "      for (const root_id of render_item.root_ids) {\n",
       "\tconst id_el = document.getElementById(root_id)\n",
       "\tif (id_el.children.length && (id_el.children[0].className === 'bk-root')) {\n",
       "\t  const root_el = id_el.children[0]\n",
       "\t  root_el.id = root_el.id + '-rendered'\n",
       "\t}\n",
       "      }\n",
       "    }\n",
       "  }\n",
       "  function get_bokeh(root) {\n",
       "    if (root.Bokeh === undefined) {\n",
       "      return null\n",
       "    } else if (root.Bokeh.version !== py_version) {\n",
       "      if (root.Bokeh.versions === undefined || !root.Bokeh.versions.has(py_version)) {\n",
       "\treturn null\n",
       "      }\n",
       "      return root.Bokeh.versions.get(py_version);\n",
       "    } else if (root.Bokeh.version === py_version) {\n",
       "      return root.Bokeh\n",
       "    }\n",
       "    return null\n",
       "  }\n",
       "  function is_loaded(root) {\n",
       "    var Bokeh = get_bokeh(root)\n",
       "    return (Bokeh != null && Bokeh.Panel !== undefined)\n",
       "  }\n",
       "  if (is_loaded(root)) {\n",
       "    embed_document(root);\n",
       "  } else {\n",
       "    var attempts = 0;\n",
       "    var timer = setInterval(function(root) {\n",
       "      if (is_loaded(root)) {\n",
       "        clearInterval(timer);\n",
       "        embed_document(root);\n",
       "      } else if (document.readyState == \"complete\") {\n",
       "        attempts++;\n",
       "        if (attempts > 200) {\n",
       "          clearInterval(timer);\n",
       "\t  var Bokeh = get_bokeh(root)\n",
       "\t  if (Bokeh == null || Bokeh.Panel == null) {\n",
       "            console.warn(\"Panel: ERROR: Unable to run Panel code because Bokeh or Panel library is missing\");\n",
       "\t  } else {\n",
       "\t    console.warn(\"Panel: WARNING: Attempting to render but not all required libraries could be resolved.\")\n",
       "\t    embed_document(root)\n",
       "\t  }\n",
       "        }\n",
       "      }\n",
       "    }, 25, root)\n",
       "  }\n",
       "})(window);</script>"
      ]
     },
     "metadata": {
      "application/vnd.holoviews_exec.v0+json": {
       "id": "995a9db6-4402-4620-a673-0dee8db6862b"
      }
     },
     "output_type": "display_data"
    }
   ],
   "source": [
    "import panel as pn\n",
    "pn.extension()"
   ]
  },
  {
   "cell_type": "markdown",
   "metadata": {},
   "source": [
    "# Explore"
   ]
  },
  {
   "cell_type": "markdown",
   "metadata": {},
   "source": [
    "### Data JSONLines"
   ]
  },
  {
   "cell_type": "code",
   "execution_count": 38,
   "metadata": {},
   "outputs": [
    {
     "name": "stdout",
     "output_type": "stream",
     "text": [
      "Number of lines in the file: 39876\n"
     ]
    }
   ],
   "source": [
    "with jsonlines.open(musique_dir + 'data/musique_full_v1.0_train.jsonl') as reader:\n",
    "    num_lines = sum(1 for _ in reader)\n",
    "\n",
    "print(f'Number of lines in the file: {num_lines}')\n"
   ]
  },
  {
   "cell_type": "code",
   "execution_count": 39,
   "metadata": {
    "tags": [
     "line_example"
    ]
   },
   "outputs": [
    {
     "name": "stdout",
     "output_type": "stream",
     "text": [
      "{'answer': 'north',\n",
      " 'answer_aliases': ['North', 'N'],\n",
      " 'answerable': True,\n",
      " 'id': '2hop__269805_135710',\n",
      " 'paragraphs': [{'idx': 0,\n",
      "                 'is_supporting': False,\n",
      "                 'paragraph_text': 'Milton F. Pavlic (1909–1942) was a United '\n",
      "                                   'States Navy officer killed in action '\n",
      "                                   'during World War II for whom a U.S. Navy '\n",
      "                                   'high-speed transport was named.',\n",
      "                 'title': 'Milton F. Pavlic'},\n",
      "                {'idx': 1,\n",
      "                 'is_supporting': False,\n",
      "                 'paragraph_text': 'Osmund Holm-Hansen (also known as Oz '\n",
      "                                   'Holm-Hansen) is a Norwegian-born American '\n",
      "                                   'scientist, for whom Mount Holm-Hansen, in '\n",
      "                                   'Antarctica is named. A plant physiologist '\n",
      "                                   'by training, from 1962 Holm-Hansen was the '\n",
      "                                   'head of polar research at the Scripps '\n",
      "                                   'Institution of Oceanography.',\n",
      "                 'title': 'Osmund Holm-Hansen'},\n",
      "                {'idx': 2,\n",
      "                 'is_supporting': False,\n",
      "                 'paragraph_text': '\"Sapphire Princess\" was built in Japan by '\n",
      "                                   'Mitsubishi Heavy Industries, the second '\n",
      "                                   'Princess Cruises ship to be built in a '\n",
      "                                   'Japanese shipyard. Her only sister ship is '\n",
      "                                   '\"Diamond Princess\", with whom she swapped '\n",
      "                                   'names during construction.',\n",
      "                 'title': 'Sapphire Princess'},\n",
      "                {'idx': 3,\n",
      "                 'is_supporting': False,\n",
      "                 'paragraph_text': 'Lake Pontchartrain is named for Louis '\n",
      "                                   'Phélypeaux, comte de Pontchartrain. He was '\n",
      "                                   'the French Minister of the Marine, '\n",
      "                                   'Chancellor, and Controller-General of '\n",
      "                                   \"Finances during the reign of France's \"\n",
      "                                   '\"Sun King\", Louis XIV, for whom the colony '\n",
      "                                   'of \"La Louisiane\" was named.',\n",
      "                 'title': 'Lake Pontchartrain'},\n",
      "                {'idx': 4,\n",
      "                 'is_supporting': False,\n",
      "                 'paragraph_text': 'Henry Crater is a large crater in the '\n",
      "                                   'Arabia quadrangle of Mars, located at '\n",
      "                                   '10.9° north latitude and 23.3° east '\n",
      "                                   'longitude. It is in diameter and was named '\n",
      "                                   'after the brothers Paul Henry and Prosper '\n",
      "                                   'Henry, both of whom were French telescope '\n",
      "                                   'makers and astronomers.',\n",
      "                 'title': 'Henry (Martian crater)'},\n",
      "                {'idx': 5,\n",
      "                 'is_supporting': False,\n",
      "                 'paragraph_text': 'Where Dead Voices Gather is a book by Nick '\n",
      "                                   'Tosches. It is, in part, a biography of '\n",
      "                                   'Emmett Miller, one of the last minstrel '\n",
      "                                   'singers. Just as importantly, it depicts '\n",
      "                                   \"Tosches' search for information about \"\n",
      "                                   'Miller, about whom he initially wrote in '\n",
      "                                   'his book \"Country: The Twisted Roots of '\n",
      "                                   'Rock and Roll\". It is also a study of '\n",
      "                                   'minstrelsy and its connection to American '\n",
      "                                   'folk music, country music, the blues and '\n",
      "                                   'ultimately, rock and roll. In that way, it '\n",
      "                                   'is a companion volume to his other books '\n",
      "                                   'of music journalism, \"Country\" and \"Unsung '\n",
      "                                   'Heroes of Rock N\\' Roll\".',\n",
      "                 'title': 'Where Dead Voices Gather'},\n",
      "                {'idx': 6,\n",
      "                 'is_supporting': True,\n",
      "                 'paragraph_text': 'Norway has a total area of and a '\n",
      "                                   'population of 5,312,300 (as of August '\n",
      "                                   '2018). The country shares a long eastern '\n",
      "                                   'border with Sweden (1,619 km or 1,006\\xa0'\n",
      "                                   'mi long). Norway is bordered by Finland '\n",
      "                                   'and Russia to the north-east, and the '\n",
      "                                   'Skagerrak strait to the south, with '\n",
      "                                   'Denmark on the other side. Norway has an '\n",
      "                                   'extensive coastline, facing the North '\n",
      "                                   'Atlantic Ocean and the Barents Sea. The '\n",
      "                                   \"maritime influence also dominates Norway's \"\n",
      "                                   'climate with mild lowland temperatures on '\n",
      "                                   'the sea coasts, whereas the interior, '\n",
      "                                   'while colder, also is a lot milder than '\n",
      "                                   'areas elsewhere in the world on such '\n",
      "                                   'northerly latitudes. Even during polar '\n",
      "                                   'night in the north, temperatures above '\n",
      "                                   'freezing are commonplace on the coastline. '\n",
      "                                   'The maritime influence brings high '\n",
      "                                   'rainfall and snowfall to some areas of the '\n",
      "                                   'country.',\n",
      "                 'title': 'Norway'},\n",
      "                {'idx': 7,\n",
      "                 'is_supporting': False,\n",
      "                 'paragraph_text': 'The Hireling Shepherd (1851) is a painting '\n",
      "                                   'by the Pre-Raphaelite artist William '\n",
      "                                   'Holman Hunt. It represents a shepherd '\n",
      "                                   'neglecting his flock in favour of an '\n",
      "                                   'attractive country girl to whom he shows a '\n",
      "                                   \"death's-head hawkmoth. The meaning of the \"\n",
      "                                   'image has been much debated.',\n",
      "                 'title': 'The Hireling Shepherd'},\n",
      "                {'idx': 8,\n",
      "                 'is_supporting': False,\n",
      "                 'paragraph_text': 'Naissa Mosque is a mosque in Qardaha, '\n",
      "                                   'along the Syrian coast. It was built in '\n",
      "                                   '1989 by architect Abdul Rahman Naassan, '\n",
      "                                   'and funded by the mother of former '\n",
      "                                   'president Hafez al-Assad, Naissa '\n",
      "                                   'Assad—after whom the mosque was named. The '\n",
      "                                   'state funeral of Hafez al-Assad was '\n",
      "                                   'observed at the mosque.',\n",
      "                 'title': 'Naissa Mosque'},\n",
      "                {'idx': 9,\n",
      "                 'is_supporting': False,\n",
      "                 'paragraph_text': 'The quick German victory over the French '\n",
      "                                   'stunned neutral observers, many of whom '\n",
      "                                   'had expected a French victory and most of '\n",
      "                                   'whom had expected a long war. The '\n",
      "                                   'strategic advantages possessed by the '\n",
      "                                   'Germans were not appreciated outside '\n",
      "                                   'Germany until after hostilities had '\n",
      "                                   'ceased. Other countries quickly discerned '\n",
      "                                   'the advantages given to the Germans by '\n",
      "                                   'their military system, and adopted many of '\n",
      "                                   'their innovations, particularly the '\n",
      "                                   'General Staff, universal conscription and '\n",
      "                                   'highly detailed mobilization systems.',\n",
      "                 'title': 'Franco-Prussian War'},\n",
      "                {'idx': 10,\n",
      "                 'is_supporting': True,\n",
      "                 'paragraph_text': 'Tveitsund is a village in Nissedal '\n",
      "                                   'municipality, Norway. The urban area '\n",
      "                                   'Tveitsund, which consists of Tveitsund and '\n",
      "                                   'Treungen, has a population of 361.',\n",
      "                 'title': 'Tveitsund'},\n",
      "                {'idx': 11,\n",
      "                 'is_supporting': False,\n",
      "                 'paragraph_text': 'John Francis Sheehan (1910–1942) was a '\n",
      "                                   'United States Navy sailor killed in action '\n",
      "                                   'during World War II for whom a destroyer '\n",
      "                                   'escort was named during the war.',\n",
      "                 'title': 'John Francis Sheehan'},\n",
      "                {'idx': 12,\n",
      "                 'is_supporting': False,\n",
      "                 'paragraph_text': 'Holmes Summit is a peak rising to , the '\n",
      "                                   'highest elevation in the Read Mountains of '\n",
      "                                   'the Shackleton Range in Antarctica. It was '\n",
      "                                   'photographed from the air by the U.S. Navy '\n",
      "                                   'in 1967 and was surveyed by the British '\n",
      "                                   'Antarctic Survey in the period 1968–71. In '\n",
      "                                   'association with the names of geologists '\n",
      "                                   'grouped in this area, it was named by the '\n",
      "                                   'UK Antarctic Place-Names Committee in 1971 '\n",
      "                                   'after Professor Arthur Holmes, after whom '\n",
      "                                   'the Holmes Hills in Palmer Land were also '\n",
      "                                   'named.',\n",
      "                 'title': 'Holmes Summit'},\n",
      "                {'idx': 13,\n",
      "                 'is_supporting': False,\n",
      "                 'paragraph_text': ', better known by her pen name is a '\n",
      "                                   'Japanese manga artist. She is married to '\n",
      "                                   'fellow manga artist Tatsuneko, from whom '\n",
      "                                   'he took the name of . She is a graduate of '\n",
      "                                   'Mita Senior High School, Tokyo. She '\n",
      "                                   'currently lives in Setagaya, Tokyo with '\n",
      "                                   'her husband and daughter.',\n",
      "                 'title': 'Yun Kōga'},\n",
      "                {'idx': 14,\n",
      "                 'is_supporting': False,\n",
      "                 'paragraph_text': 'The Book of Proper Names () is a Belgian '\n",
      "                                   'novel by Amélie Nothomb. It was first '\n",
      "                                   'published in 2002. It is a romanticized '\n",
      "                                   'account of the life of the singer RoBERT, '\n",
      "                                   'whom Nothomb became acquainted with as an '\n",
      "                                   'avid admirer of her songs.',\n",
      "                 'title': 'The Book of Proper Names'},\n",
      "                {'idx': 15,\n",
      "                 'is_supporting': False,\n",
      "                 'paragraph_text': '653 Berenike is a main-belt asteroid '\n",
      "                                   'discovered on November 27, 1907, by Joel '\n",
      "                                   'Hastings Metcalf at Taunton, '\n",
      "                                   'Massachusetts. It is named after Berenice '\n",
      "                                   'II of Egypt, after whom the constellation '\n",
      "                                   'Coma Berenices is also named.',\n",
      "                 'title': '653 Berenike'},\n",
      "                {'idx': 16,\n",
      "                 'is_supporting': False,\n",
      "                 'paragraph_text': 'orbiting the Sun. It was discovered on 21 '\n",
      "                                   'February 1906 by August Kopff from '\n",
      "                                   'Heidelberg. Kopff named the asteroid after '\n",
      "                                   'a female English student with whom he was '\n",
      "                                   'acquainted.',\n",
      "                 'title': '596 Scheila'},\n",
      "                {'idx': 17,\n",
      "                 'is_supporting': False,\n",
      "                 'paragraph_text': 'William M. Hobby (1899–1942), was a United '\n",
      "                                   'States Navy officer killed in action '\n",
      "                                   'during World War II for whom a U.S. Navy '\n",
      "                                   'ship was named.',\n",
      "                 'title': 'William M. Hobby'},\n",
      "                {'idx': 18,\n",
      "                 'is_supporting': False,\n",
      "                 'paragraph_text': 'The Alma Grace McDonough Health and '\n",
      "                                   'Recreation Center is a 2,200 seat '\n",
      "                                   'multipurpose arena and recreation facility '\n",
      "                                   'on the campus of Wheeling Jesuit '\n",
      "                                   'University in Wheeling, West Virginia. The '\n",
      "                                   'building was constructed thanks to a gift '\n",
      "                                   'from Alma Grace McDonough, whom the '\n",
      "                                   'building is named after.',\n",
      "                 'title': 'Alma Grace McDonough Health and Recreation Center'},\n",
      "                {'idx': 19,\n",
      "                 'is_supporting': False,\n",
      "                 'paragraph_text': 'Émile Bertrand (1844–1909) was a French '\n",
      "                                   'mineralogist, in honour of whom '\n",
      "                                   'bertrandite was named by Alexis Damour. He '\n",
      "                                   'also gave his name to the \"Bertrand lens\" '\n",
      "                                   'or phase telescope.',\n",
      "                 'title': 'Émile Bertrand'}],\n",
      " 'question': 'What is the country where Nissedal is located named after?',\n",
      " 'question_decomposition': [{'answer': 'Norway',\n",
      "                             'id': 269805,\n",
      "                             'paragraph_support_idx': 10,\n",
      "                             'question': 'Nissedal >> country'},\n",
      "                            {'answer': 'north',\n",
      "                             'id': 135710,\n",
      "                             'paragraph_support_idx': 6,\n",
      "                             'question': 'The #1 was named for whom?'}]}\n"
     ]
    },
    {
     "data": {
      "text/markdown": [
       "**Line Example**"
      ],
      "text/plain": [
       "<IPython.core.display.Markdown object>"
      ]
     },
     "metadata": {},
     "output_type": "display_data"
    },
    {
     "data": {
      "text/plain": [
       "None"
      ]
     },
     "metadata": {},
     "output_type": "display_data"
    }
   ],
   "source": [
    "with jsonlines.open(musique_dir + '/data/musique_full_v1.0_train.jsonl') as reader:\n",
    "    lines = [reader.read() for _ in range(1000)]\n",
    "display(Markdown('**Line Example**'), pprint(lines[1]))\n"
   ]
  },
  {
   "cell_type": "markdown",
   "metadata": {},
   "source": [
    "### Answerable/unanswerable lines"
   ]
  },
  {
   "cell_type": "code",
   "execution_count": 40,
   "metadata": {},
   "outputs": [
    {
     "name": "stdout",
     "output_type": "stream",
     "text": [
      "Number of unanswerable lines: 494\n"
     ]
    }
   ],
   "source": [
    "unanswerable_lines = [line for line in lines if not line['answerable']]\n",
    "num_unanswerable_lines = len(unanswerable_lines)\n",
    "print(f'Number of unanswerable lines: {num_unanswerable_lines}')\n"
   ]
  },
  {
   "cell_type": "code",
   "execution_count": 41,
   "metadata": {},
   "outputs": [
    {
     "data": {
      "text/plain": [
       "{'id': '2hop__269805_135710',\n",
       " 'paragraphs': [{'idx': 0,\n",
       "   'title': 'Milton F. Pavlic',\n",
       "   'paragraph_text': 'Milton F. Pavlic (1909–1942) was a United States Navy officer killed in action during World War II for whom a U.S. Navy high-speed transport was named.',\n",
       "   'is_supporting': False},\n",
       "  {'idx': 1,\n",
       "   'title': 'Osmund Holm-Hansen',\n",
       "   'paragraph_text': 'Osmund Holm-Hansen (also known as Oz Holm-Hansen) is a Norwegian-born American scientist, for whom Mount Holm-Hansen, in Antarctica is named. A plant physiologist by training, from 1962 Holm-Hansen was the head of polar research at the Scripps Institution of Oceanography.',\n",
       "   'is_supporting': False},\n",
       "  {'idx': 2,\n",
       "   'title': 'Sapphire Princess',\n",
       "   'paragraph_text': '\"Sapphire Princess\" was built in Japan by Mitsubishi Heavy Industries, the second Princess Cruises ship to be built in a Japanese shipyard. Her only sister ship is \"Diamond Princess\", with whom she swapped names during construction.',\n",
       "   'is_supporting': False},\n",
       "  {'idx': 3,\n",
       "   'title': 'Lake Pontchartrain',\n",
       "   'paragraph_text': 'Lake Pontchartrain is named for Louis Phélypeaux, comte de Pontchartrain. He was the French Minister of the Marine, Chancellor, and Controller-General of Finances during the reign of France\\'s \"Sun King\", Louis XIV, for whom the colony of \"La Louisiane\" was named.',\n",
       "   'is_supporting': False},\n",
       "  {'idx': 4,\n",
       "   'title': 'Henry (Martian crater)',\n",
       "   'paragraph_text': 'Henry Crater is a large crater in the Arabia quadrangle of Mars, located at 10.9° north latitude and 23.3° east longitude. It is in diameter and was named after the brothers Paul Henry and Prosper Henry, both of whom were French telescope makers and astronomers.',\n",
       "   'is_supporting': False},\n",
       "  {'idx': 5,\n",
       "   'title': 'Where Dead Voices Gather',\n",
       "   'paragraph_text': 'Where Dead Voices Gather is a book by Nick Tosches. It is, in part, a biography of Emmett Miller, one of the last minstrel singers. Just as importantly, it depicts Tosches\\' search for information about Miller, about whom he initially wrote in his book \"Country: The Twisted Roots of Rock and Roll\". It is also a study of minstrelsy and its connection to American folk music, country music, the blues and ultimately, rock and roll. In that way, it is a companion volume to his other books of music journalism, \"Country\" and \"Unsung Heroes of Rock N\\' Roll\".',\n",
       "   'is_supporting': False},\n",
       "  {'idx': 6,\n",
       "   'title': 'Norway',\n",
       "   'paragraph_text': \"Norway has a total area of and a population of 5,312,300 (as of August 2018). The country shares a long eastern border with Sweden (1,619 km or 1,006\\xa0mi long). Norway is bordered by Finland and Russia to the north-east, and the Skagerrak strait to the south, with Denmark on the other side. Norway has an extensive coastline, facing the North Atlantic Ocean and the Barents Sea. The maritime influence also dominates Norway's climate with mild lowland temperatures on the sea coasts, whereas the interior, while colder, also is a lot milder than areas elsewhere in the world on such northerly latitudes. Even during polar night in the north, temperatures above freezing are commonplace on the coastline. The maritime influence brings high rainfall and snowfall to some areas of the country.\",\n",
       "   'is_supporting': True},\n",
       "  {'idx': 7,\n",
       "   'title': 'The Hireling Shepherd',\n",
       "   'paragraph_text': \"The Hireling Shepherd (1851) is a painting by the Pre-Raphaelite artist William Holman Hunt. It represents a shepherd neglecting his flock in favour of an attractive country girl to whom he shows a death's-head hawkmoth. The meaning of the image has been much debated.\",\n",
       "   'is_supporting': False},\n",
       "  {'idx': 8,\n",
       "   'title': 'Naissa Mosque',\n",
       "   'paragraph_text': 'Naissa Mosque is a mosque in Qardaha, along the Syrian coast. It was built in 1989 by architect Abdul Rahman Naassan, and funded by the mother of former president Hafez al-Assad, Naissa Assad—after whom the mosque was named. The state funeral of Hafez al-Assad was observed at the mosque.',\n",
       "   'is_supporting': False},\n",
       "  {'idx': 9,\n",
       "   'title': 'Franco-Prussian War',\n",
       "   'paragraph_text': 'The quick German victory over the French stunned neutral observers, many of whom had expected a French victory and most of whom had expected a long war. The strategic advantages possessed by the Germans were not appreciated outside Germany until after hostilities had ceased. Other countries quickly discerned the advantages given to the Germans by their military system, and adopted many of their innovations, particularly the General Staff, universal conscription and highly detailed mobilization systems.',\n",
       "   'is_supporting': False},\n",
       "  {'idx': 10,\n",
       "   'title': 'Tveitsund',\n",
       "   'paragraph_text': 'Tveitsund is a village in Nissedal municipality, Norway. The urban area Tveitsund, which consists of Tveitsund and Treungen, has a population of 361.',\n",
       "   'is_supporting': True},\n",
       "  {'idx': 11,\n",
       "   'title': 'John Francis Sheehan',\n",
       "   'paragraph_text': 'John Francis Sheehan (1910–1942) was a United States Navy sailor killed in action during World War II for whom a destroyer escort was named during the war.',\n",
       "   'is_supporting': False},\n",
       "  {'idx': 12,\n",
       "   'title': 'Holmes Summit',\n",
       "   'paragraph_text': 'Holmes Summit is a peak rising to , the highest elevation in the Read Mountains of the Shackleton Range in Antarctica. It was photographed from the air by the U.S. Navy in 1967 and was surveyed by the British Antarctic Survey in the period 1968–71. In association with the names of geologists grouped in this area, it was named by the UK Antarctic Place-Names Committee in 1971 after Professor Arthur Holmes, after whom the Holmes Hills in Palmer Land were also named.',\n",
       "   'is_supporting': False},\n",
       "  {'idx': 13,\n",
       "   'title': 'Yun Kōga',\n",
       "   'paragraph_text': ', better known by her pen name is a Japanese manga artist. She is married to fellow manga artist Tatsuneko, from whom he took the name of . She is a graduate of Mita Senior High School, Tokyo. She currently lives in Setagaya, Tokyo with her husband and daughter.',\n",
       "   'is_supporting': False},\n",
       "  {'idx': 14,\n",
       "   'title': 'The Book of Proper Names',\n",
       "   'paragraph_text': 'The Book of Proper Names () is a Belgian novel by Amélie Nothomb. It was first published in 2002. It is a romanticized account of the life of the singer RoBERT, whom Nothomb became acquainted with as an avid admirer of her songs.',\n",
       "   'is_supporting': False},\n",
       "  {'idx': 15,\n",
       "   'title': '653 Berenike',\n",
       "   'paragraph_text': '653 Berenike is a main-belt asteroid discovered on November 27, 1907, by Joel Hastings Metcalf at Taunton, Massachusetts. It is named after Berenice II of Egypt, after whom the constellation Coma Berenices is also named.',\n",
       "   'is_supporting': False},\n",
       "  {'idx': 16,\n",
       "   'title': '596 Scheila',\n",
       "   'paragraph_text': 'orbiting the Sun. It was discovered on 21 February 1906 by August Kopff from Heidelberg. Kopff named the asteroid after a female English student with whom he was acquainted.',\n",
       "   'is_supporting': False},\n",
       "  {'idx': 17,\n",
       "   'title': 'William M. Hobby',\n",
       "   'paragraph_text': 'William M. Hobby (1899–1942), was a United States Navy officer killed in action during World War II for whom a U.S. Navy ship was named.',\n",
       "   'is_supporting': False},\n",
       "  {'idx': 18,\n",
       "   'title': 'Alma Grace McDonough Health and Recreation Center',\n",
       "   'paragraph_text': 'The Alma Grace McDonough Health and Recreation Center is a 2,200 seat multipurpose arena and recreation facility on the campus of Wheeling Jesuit University in Wheeling, West Virginia. The building was constructed thanks to a gift from Alma Grace McDonough, whom the building is named after.',\n",
       "   'is_supporting': False},\n",
       "  {'idx': 19,\n",
       "   'title': 'Émile Bertrand',\n",
       "   'paragraph_text': 'Émile Bertrand (1844–1909) was a French mineralogist, in honour of whom bertrandite was named by Alexis Damour. He also gave his name to the \"Bertrand lens\" or phase telescope.',\n",
       "   'is_supporting': False}],\n",
       " 'question': 'What is the country where Nissedal is located named after?',\n",
       " 'question_decomposition': [{'id': 269805,\n",
       "   'question': 'Nissedal >> country',\n",
       "   'answer': 'Norway',\n",
       "   'paragraph_support_idx': 10},\n",
       "  {'id': 135710,\n",
       "   'question': 'The #1 was named for whom?',\n",
       "   'answer': 'north',\n",
       "   'paragraph_support_idx': 6}],\n",
       " 'answer': 'north',\n",
       " 'answer_aliases': ['North', 'N'],\n",
       " 'answerable': True}"
      ]
     },
     "execution_count": 41,
     "metadata": {},
     "output_type": "execute_result"
    }
   ],
   "source": [
    "lines[1]"
   ]
  },
  {
   "cell_type": "markdown",
   "metadata": {},
   "source": [
    "### Tokenizer"
   ]
  },
  {
   "cell_type": "code",
   "execution_count": 42,
   "metadata": {
    "tags": [
     "tokenizer"
    ]
   },
   "outputs": [
    {
     "data": {
      "text/markdown": [
       "**Token models**"
      ],
      "text/plain": [
       "<IPython.core.display.Markdown object>"
      ]
     },
     "metadata": {},
     "output_type": "display_data"
    },
    {
     "data": {
      "text/plain": [
       "{'gpt-4': 'cl100k_base',\n",
       " 'gpt-3.5-turbo': 'cl100k_base',\n",
       " 'gpt-3.5': 'cl100k_base',\n",
       " 'gpt-35-turbo': 'cl100k_base',\n",
       " 'davinci-002': 'cl100k_base',\n",
       " 'babbage-002': 'cl100k_base',\n",
       " 'text-embedding-ada-002': 'cl100k_base',\n",
       " 'text-embedding-3-small': 'cl100k_base',\n",
       " 'text-embedding-3-large': 'cl100k_base',\n",
       " 'text-davinci-003': 'p50k_base',\n",
       " 'text-davinci-002': 'p50k_base',\n",
       " 'text-davinci-001': 'r50k_base',\n",
       " 'text-curie-001': 'r50k_base',\n",
       " 'text-babbage-001': 'r50k_base',\n",
       " 'text-ada-001': 'r50k_base',\n",
       " 'davinci': 'r50k_base',\n",
       " 'curie': 'r50k_base',\n",
       " 'babbage': 'r50k_base',\n",
       " 'ada': 'r50k_base',\n",
       " 'code-davinci-002': 'p50k_base',\n",
       " 'code-davinci-001': 'p50k_base',\n",
       " 'code-cushman-002': 'p50k_base',\n",
       " 'code-cushman-001': 'p50k_base',\n",
       " 'davinci-codex': 'p50k_base',\n",
       " 'cushman-codex': 'p50k_base',\n",
       " 'text-davinci-edit-001': 'p50k_edit',\n",
       " 'code-davinci-edit-001': 'p50k_edit',\n",
       " 'text-similarity-davinci-001': 'r50k_base',\n",
       " 'text-similarity-curie-001': 'r50k_base',\n",
       " 'text-similarity-babbage-001': 'r50k_base',\n",
       " 'text-similarity-ada-001': 'r50k_base',\n",
       " 'text-search-davinci-doc-001': 'r50k_base',\n",
       " 'text-search-curie-doc-001': 'r50k_base',\n",
       " 'text-search-babbage-doc-001': 'r50k_base',\n",
       " 'text-search-ada-doc-001': 'r50k_base',\n",
       " 'code-search-babbage-code-001': 'r50k_base',\n",
       " 'code-search-ada-code-001': 'r50k_base',\n",
       " 'gpt2': 'gpt2',\n",
       " 'gpt-2': 'gpt2'}"
      ]
     },
     "metadata": {},
     "output_type": "display_data"
    },
    {
     "data": {
      "text/markdown": [
       "**Tokenizer we are using**"
      ],
      "text/plain": [
       "<IPython.core.display.Markdown object>"
      ]
     },
     "metadata": {},
     "output_type": "display_data"
    },
    {
     "data": {
      "text/plain": [
       "<Encoding 'cl100k_base'>"
      ]
     },
     "metadata": {},
     "output_type": "display_data"
    }
   ],
   "source": [
    "import tiktoken\n",
    "\n",
    "display(Markdown('**Token models**'), tiktoken.model.MODEL_TO_ENCODING)\n",
    "tokenizer = tiktoken.encoding_for_model('gpt-3.5-turbo')\n",
    "display(Markdown('**Tokenizer we are using**'), tokenizer)\n"
   ]
  },
  {
   "cell_type": "code",
   "execution_count": 43,
   "metadata": {
    "tags": [
     "paragraph_tokens"
    ]
   },
   "outputs": [
    {
     "data": {
      "text/markdown": [
       "**Paragraph Example**"
      ],
      "text/plain": [
       "<IPython.core.display.Markdown object>"
      ]
     },
     "metadata": {},
     "output_type": "display_data"
    },
    {
     "data": {
      "text/plain": [
       "{'idx': 0,\n",
       " 'title': 'Milton F. Pavlic',\n",
       " 'paragraph_text': 'Milton F. Pavlic (1909–1942) was a United States Navy officer killed in action during World War II for whom a U.S. Navy high-speed transport was named.',\n",
       " 'is_supporting': False}"
      ]
     },
     "metadata": {},
     "output_type": "display_data"
    },
    {
     "data": {
      "text/markdown": [
       "**Tokens**"
      ],
      "text/plain": [
       "<IPython.core.display.Markdown object>"
      ]
     },
     "metadata": {},
     "output_type": "display_data"
    },
    {
     "data": {
      "text/plain": [
       "[44,\n",
       " 16695,\n",
       " 435,\n",
       " 13,\n",
       " 43856,\n",
       " 416,\n",
       " 320,\n",
       " 7028,\n",
       " 24,\n",
       " 4235,\n",
       " 6393,\n",
       " 17,\n",
       " 8,\n",
       " 574,\n",
       " 264,\n",
       " 3723,\n",
       " 4273,\n",
       " 19574,\n",
       " 9640,\n",
       " 7577,\n",
       " 304,\n",
       " 1957,\n",
       " 2391,\n",
       " 4435,\n",
       " 5111,\n",
       " 8105,\n",
       " 369,\n",
       " 8884,\n",
       " 264,\n",
       " 549,\n",
       " 815,\n",
       " 13,\n",
       " 19574,\n",
       " 1579,\n",
       " 30699,\n",
       " 7710,\n",
       " 574,\n",
       " 7086,\n",
       " 13]"
      ]
     },
     "metadata": {},
     "output_type": "display_data"
    },
    {
     "data": {
      "text/markdown": [
       "**Number of Tokens**"
      ],
      "text/plain": [
       "<IPython.core.display.Markdown object>"
      ]
     },
     "metadata": {},
     "output_type": "display_data"
    },
    {
     "data": {
      "text/plain": [
       "39"
      ]
     },
     "metadata": {},
     "output_type": "display_data"
    }
   ],
   "source": [
    "test_line = lines[1]\n",
    "test_paragraphs = test_line['paragraphs']\n",
    "\n",
    "display(Markdown('**Paragraph Example**'), test_paragraphs[0])\n",
    "test_tokens = tokenizer.encode(test_paragraphs[0]['paragraph_text'])\n",
    "display(Markdown('**Tokens**'), test_tokens)\n",
    "display(Markdown('**Number of Tokens**'), len(test_tokens))\n",
    "\n"
   ]
  },
  {
   "cell_type": "code",
   "execution_count": 44,
   "metadata": {
    "tags": [
     "paragraphs_tokens"
    ]
   },
   "outputs": [
    {
     "name": "stdout",
     "output_type": "stream",
     "text": [
      "Number of tokens in paragraph: 39\n",
      "Number of tokens in paragraph: 68\n",
      "Number of tokens in paragraph: 45\n",
      "Number of tokens in paragraph: 64\n",
      "Number of tokens in paragraph: 59\n",
      "Number of tokens in paragraph: 131\n",
      "Number of tokens in paragraph: 176\n",
      "Number of tokens in paragraph: 59\n",
      "Number of tokens in paragraph: 71\n",
      "Number of tokens in paragraph: 86\n",
      "Number of tokens in paragraph: 42\n",
      "Number of tokens in paragraph: 36\n",
      "Number of tokens in paragraph: 102\n",
      "Number of tokens in paragraph: 61\n",
      "Number of tokens in paragraph: 58\n",
      "Number of tokens in paragraph: 57\n",
      "Number of tokens in paragraph: 39\n",
      "Number of tokens in paragraph: 35\n",
      "Number of tokens in paragraph: 59\n",
      "Number of tokens in paragraph: 48\n"
     ]
    }
   ],
   "source": [
    "for paragraph in test_paragraphs:\n",
    "    paragraph_text = paragraph['paragraph_text']\n",
    "    paragraph_tokens = tokenizer.encode(paragraph_text)\n",
    "    print(f'Number of tokens in paragraph: {len(paragraph_tokens)}')"
   ]
  },
  {
   "cell_type": "code",
   "execution_count": 45,
   "metadata": {},
   "outputs": [
    {
     "data": {
      "application/vnd.jupyter.widget-view+json": {
       "model_id": "c31ddd78c4ba4398aa685c13e2a29cd1",
       "version_major": 2,
       "version_minor": 0
      },
      "text/plain": [
       "BokehModel(combine_events=True, render_bundle={'docs_json': {'7099e600-3100-41ea-8fec-bc5a3e19a006': {'version…"
      ]
     },
     "execution_count": 45,
     "metadata": {},
     "output_type": "execute_result"
    }
   ],
   "source": [
    "pn.pane.JSON(lines[5])"
   ]
  },
  {
   "cell_type": "markdown",
   "metadata": {},
   "source": [
    "### Prediction format"
   ]
  },
  {
   "cell_type": "code",
   "execution_count": 46,
   "metadata": {
    "tags": [
     "prediction_format"
    ]
   },
   "outputs": [
    {
     "data": {
      "text/markdown": [
       "**Examples of predictions**"
      ],
      "text/plain": [
       "<IPython.core.display.Markdown object>"
      ]
     },
     "metadata": {},
     "output_type": "display_data"
    },
    {
     "name": "stdout",
     "output_type": "stream",
     "text": [
      "{'id': '2hop__460946_294723',\n",
      " 'predicted_answer': 'Jennifer Garner',\n",
      " 'predicted_answerable': True,\n",
      " 'predicted_support_idxs': [0, 10]}\n"
     ]
    },
    {
     "data": {
      "text/plain": [
       "None"
      ]
     },
     "metadata": {},
     "output_type": "display_data"
    },
    {
     "name": "stdout",
     "output_type": "stream",
     "text": [
      "{'id': '2hop__252311_366220',\n",
      " 'predicted_answer': 'Steven Spielberg',\n",
      " 'predicted_answerable': True,\n",
      " 'predicted_support_idxs': [10, 18]}\n"
     ]
    },
    {
     "data": {
      "text/plain": [
       "None"
      ]
     },
     "metadata": {},
     "output_type": "display_data"
    },
    {
     "name": "stdout",
     "output_type": "stream",
     "text": [
      "{'id': '2hop__701895_752697',\n",
      " 'predicted_answer': 'Cypriot part was merged into the Bank of Cyprus '\n",
      "                     '(including insured deposits under 100,000 Euro) and the '\n",
      "                     \"'bad' part or legacy entity holds all the overseas \"\n",
      "                     'operations as well as uninsured deposits above 100,000 '\n",
      "                     'Euro, old shares and bonds. The uninsured depositors '\n",
      "                     'were subject to a bail-in and became the new '\n",
      "                     'shareholders of the legacy entity. As at May 2017, the '\n",
      "                     'legacy entity is one of the largest shareholders of Bank '\n",
      "                     'of Cyprus with 4.8% but does not hold a board seat. All '\n",
      "                     'the overseas operations, of the now defunct Cyprus '\n",
      "                     'Popular Bank, are also held by the legacy entity, until '\n",
      "                     'they are sold by the Special Administrator, at first Ms '\n",
      "                     'Andri Antoniadou, who ran the legacy entity for two '\n",
      "                     'years, from March 2013 until 3 March 2015. She tendered '\n",
      "                     'her resignation due to disagreements, with the Governor '\n",
      "                     'of the Central Bank of Cyprus and the Central Bank Board '\n",
      "                     'members, who amended the lawyers of the legacy entity, '\n",
      "                     'without consulting her. Veteran banker Chris [[PP]] The '\n",
      "                     'Ciudad Deportiva (\"Sports City\") is a sports complex in '\n",
      "                     'Nuevo Laredo, Mexico. It is home to the Tecolotes de '\n",
      "                     'Nuevo Laredo Mexican Baseball League team and the Toros '\n",
      "                     'de Nuevo Laredo Mexican professional basketball team '\n",
      "                     'from the Liga Nacional de Baloncesto Profesional. The '\n",
      "                     \"Ciudad Deportiva's Estadio Nuevo Laredo (baseball park) \"\n",
      "                     'can seat up to 12,000 fans at a baseball game and the '\n",
      "                     'Nuevo Laredo Multidisciplinary Gymnasium can seat 4,000 '\n",
      "                     'fans at a basketball game. [[PP]] Juan Carlos Espinoza '\n",
      "                     'Mercado (born 23 July 1987 in Machala) is an Ecuadorian '\n",
      "                     'professional football player who has played for '\n",
      "                     'Ecuadorian club Liga Deportiva Universitaria de Loja and '\n",
      "                     'in 2010 he joined Peruvian club Juan Aurich. [[PP]] '\n",
      "                     'Estadio Unión Tarma is a multi-use stadium in Tarma, '\n",
      "                     'Peru. It is currently used mostly for football matches '\n",
      "                     'and is the home stadium of Asociación Deportiva Tarma of '\n",
      "                     'the Copa Perú. The stadium holds 9,000 spectators. '\n",
      "                     '[[PP]] A Nigerian State is a federated political entity, '\n",
      "                     'which shares sovereignty with the Federal Government of '\n",
      "                     'Nigeria, There are 36 States in Nigeria, which are bound '\n",
      "                     'together by a federal agreement. There is also a '\n",
      "                     'territory called the Federal Capital Territory (FCT), '\n",
      "                     'which is not a state, but a territory, under the direct '\n",
      "                     'control of the Federal Government. The States are '\n",
      "                     'further divided into a total of 774 Local Government '\n",
      "                     'Areas. Under the Nigerian Constitution, states have the '\n",
      "                     'power to ratify constitutional amendments. [[PP]] Ofu '\n",
      "                     'Airport is a public airport located one mile (2 km) '\n",
      "                     'southeast of the village of Ofu on the island of Ofu in '\n",
      "                     'American Samoa, an unincorporated territory of the '\n",
      "                     'United States. This airport is publicly owned by '\n",
      "                     'Government of American Samoa. [[PP]] The Díaz '\n",
      "                     'administration made political decisions and took legal '\n",
      "                     'measures that allowed the elite throughout Mexico',\n",
      " 'predicted_answerable': True,\n",
      " 'predicted_support_idxs': [11, 16, 18]}\n"
     ]
    },
    {
     "data": {
      "text/plain": [
       "None"
      ]
     },
     "metadata": {},
     "output_type": "display_data"
    },
    {
     "name": "stdout",
     "output_type": "stream",
     "text": [
      "{'id': '2hop__259228_793698',\n",
      " 'predicted_answer': 'Fairfield, Connecticut. Its main offices are located at '\n",
      "                     '30 Rockefeller Plaza at Rockefeller Center in New York '\n",
      "                     'City, known now as the Comcast Building. It was formerly '\n",
      "                     'known as the GE Building for the prominent GE logo on '\n",
      "                     \"the roof; NBC's headquarters and main studios are also \"\n",
      "                     'located in the building. Through its RCA subsidiary, it '\n",
      "                     'has been associated with the center since its '\n",
      "                     'construction in the 1930s. GE moved its corporate '\n",
      "                     'headquarters from the GE Building on Lexington Avenue to '\n",
      "                     'Fairfield in 1974. [[PP]] The lander is named after the '\n",
      "                     'Philae obelisk, which bears a bilingual inscription and '\n",
      "                     'was used along with the Rosetta Stone to decipher '\n",
      "                     'Egyptian hieroglyphs. \"Philae\" was monitored and '\n",
      "                     \"operated from DLR's Lander Control Center in Cologne\",\n",
      " 'predicted_answerable': True,\n",
      " 'predicted_support_idxs': [2, 10, 14]}\n"
     ]
    },
    {
     "data": {
      "text/plain": [
       "None"
      ]
     },
     "metadata": {},
     "output_type": "display_data"
    },
    {
     "name": "stdout",
     "output_type": "stream",
     "text": [
      "{'id': '2hop__481349_302087',\n",
      " 'predicted_answer': 'Bombardier Inc. the former CRJ100 and CRJ200 series are '\n",
      "                     'no longer in production but still in active airline '\n",
      "                     'service, while the more recent CRJ700, CRJ900 and '\n",
      "                     'CRJ1000 series are in production and in service. [[PP]] '\n",
      "                     'Products offered through the Great Value brand are often '\n",
      "                     'claimed to be as good as national brand offerings, but '\n",
      "                     'are typically sold at a lower price because of lower '\n",
      "                     'marketing and advertising expense. As a house or store '\n",
      "                     'brand, the Great Value line does not consist of goods '\n",
      "                     'produced by Walmart, but is a labeling system for items '\n",
      "                     'manufactured and packaged by a number of agricultural '\n",
      "                     'and food corporations, such as ConAgra, Sara Lee which, '\n",
      "                     'in addition to releasing products under its own brands '\n",
      "                     'and exclusively for Walmart, also manufactures and '\n",
      "                     'brands foods for a variety of other chain stores. Often, '\n",
      "                     'this labeling system, to the dismay of consumers, does '\n",
      "                     'not list location of manufacture of the product. Wal - '\n",
      "                     'Mart contends that all Great Value products are produced '\n",
      "                     'in the United States. Otherwise, the country of origin '\n",
      "                     'would be listed. [[PP]] On June 11, 2006, the British '\n",
      "                     'tabloid The Mail on Sunday reported that iPods are '\n",
      "                     'mainly manufactured by workers who earn no more than '\n",
      "                     'US$50 per month and work 15-hour shifts. Apple '\n",
      "                     'investigated the case with independent auditors and '\n",
      "                     \"found that, while some of the plant's labour practices \"\n",
      "                     \"met Apple's Code of Conduct, others did not: employees \"\n",
      "                     'worked over 60 hours a week for 35% of the time, and '\n",
      "                     'worked more than six consecutive days for 25% of the '\n",
      "                     'time. [[PP]] The EMD E6 was a , A1A-A1A, passenger train '\n",
      "                     'locomotive manufactured by Electro-Motive Corporation, '\n",
      "                     'and its corporate successor, General Motors',\n",
      " 'predicted_answerable': True,\n",
      " 'predicted_support_idxs': [5, 10]}\n"
     ]
    },
    {
     "data": {
      "text/plain": [
       "None"
      ]
     },
     "metadata": {},
     "output_type": "display_data"
    }
   ],
   "source": [
    "display(Markdown('**Examples of predictions**'))\n",
    "with jsonlines.open(musique_dir + 'predictions/musique_ans_v1.0_dev_end2end_model_predictions.jsonl', 'r') as file:\n",
    "    for i in range(5):\n",
    "        display(pprint(file.read()))"
   ]
  },
  {
   "cell_type": "markdown",
   "metadata": {},
   "source": [
    "# Doc loading and splitting"
   ]
  },
  {
   "cell_type": "code",
   "execution_count": 47,
   "metadata": {},
   "outputs": [
    {
     "data": {
      "text/plain": [
       "{'id': '2hop__604134_131944',\n",
       " 'paragraphs': [{'idx': 0,\n",
       "   'title': 'Commonwealth of the Philippines',\n",
       "   'paragraph_text': \"The Commonwealth of the Philippines (; ) was the administrative body that governed the Philippines from 1935 to 1946, aside from a period of exile in the Second World War from 1942 to 1945 when Japan occupied the country. It replaced the Insular Government, a United States territorial government, and was established by the Tydings–McDuffie Act. The Commonwealth was designed as a transitional administration in preparation for the country's full achievement of independence.\",\n",
       "   'is_supporting': False},\n",
       "  {'idx': 1,\n",
       "   'title': 'Lake Oesa',\n",
       "   'paragraph_text': 'Lake Oesa is a body of water located at an elevation of 2,267m (7438 ft) in the mountains of Yoho National Park, near Field, British Columbia, Canada.',\n",
       "   'is_supporting': False},\n",
       "  {'idx': 2,\n",
       "   'title': 'Arafura Swamp',\n",
       "   'paragraph_text': 'The Arafura Swamp is a large inland freshwater wetland in Arnhem Land, in the Top End of the Northern Territory of Australia. It is a near pristine floodplain with an area of that may expand to by the end of the wet season, making it the largest wooded swamp in the Northern Territory and, possibly, in Australia. It has a strong seasonal variation in depth of water. The area is of great cultural significance to the Yolngu people, in particular the Ramingining community. It was the filming location for the film \"Ten Canoes\".',\n",
       "   'is_supporting': False},\n",
       "  {'idx': 3,\n",
       "   'title': 'Wapizagonke Lake',\n",
       "   'paragraph_text': 'The Wapizagonke Lake is one of the bodies of water located the sector \"Lac-Wapizagonke\", in the city of Shawinigan, in the La Mauricie National Park, in the region of Mauricie, in Quebec, in Canada.',\n",
       "   'is_supporting': False},\n",
       "  {'idx': 4,\n",
       "   'title': 'Khabarovsky District',\n",
       "   'paragraph_text': 'Khabarovsky District () is an administrative and municipal district (raion), one of the seventeen in Khabarovsk Krai, Russia. It consists of two unconnected segments separated by the territory of Amursky District, which are located in the southwest of the krai. The area of the district is . Its administrative center is the city of Khabarovsk (which is not administratively a part of the district). Population:',\n",
       "   'is_supporting': False},\n",
       "  {'idx': 5,\n",
       "   'title': 'Silver Lake (Harrisville, New Hampshire)',\n",
       "   'paragraph_text': 'Silver Lake is a water body located in Cheshire County in southwestern New Hampshire, United States, in the towns of Harrisville and Nelson. Water from Silver Lake flows via Minnewawa Brook and The Branch to the Ashuelot River, a tributary of the Connecticut River.',\n",
       "   'is_supporting': False},\n",
       "  {'idx': 6,\n",
       "   'title': 'Hyderabad',\n",
       "   'paragraph_text': 'The jurisdictions of the city\\'s administrative agencies are, in ascending order of size: the Hyderabad Police area, Hyderabad district, the GHMC area (\"Hyderabad city\") and the area under the Hyderabad Metropolitan Development Authority (HMDA). The HMDA is an apolitical urban planning agency that covers the GHMC and its suburbs, extending to 54 mandals in five districts encircling the city. It coordinates the development activities of GHMC and suburban municipalities and manages the administration of bodies such as the Hyderabad Metropolitan Water Supply and Sewerage Board (HMWSSB).',\n",
       "   'is_supporting': False},\n",
       "  {'idx': 7,\n",
       "   'title': 'San Juan, Puerto Rico',\n",
       "   'paragraph_text': \"San Juan is located along the north - eastern coast of Puerto Rico. It lies south of the Atlantic Ocean; north of Caguas and Trujillo Alto; east of and Guaynabo; and west of Carolina. The city occupies an area of 76.93 square miles (199.2 km), of which, 29.11 square miles (75.4 km) (37.83%) is water. San Juan's main water bodies are San Juan Bay and two natural lagoons, the Condado and San José.\",\n",
       "   'is_supporting': False},\n",
       "  {'idx': 8,\n",
       "   'title': 'States of Germany',\n",
       "   'paragraph_text': 'Local associations of a special kind are an amalgamation of one or more Landkreise with one or more Kreisfreie Städte to form a replacement of the aforementioned administrative entities at the district level. They are intended to implement simplification of administration at that level. Typically, a district-free city or town and its urban hinterland are grouped into such an association, or Kommunalverband besonderer Art. Such an organization requires the issuing of special laws by the governing state, since they are not covered by the normal administrative structure of the respective states.',\n",
       "   'is_supporting': False},\n",
       "  {'idx': 9,\n",
       "   'title': 'Norfolk Island',\n",
       "   'paragraph_text': \"Norfolk Island is located in the South Pacific Ocean, east of the Australian mainland. Norfolk Island is the main island of the island group the territory encompasses and is located at 29°02′S 167°57′E\\ufeff / \\ufeff29.033°S 167.950°E\\ufeff / -29.033; 167.950. It has an area of 34.6 square kilometres (13.4 sq mi), with no large-scale internal bodies of water and 32 km (20 mi) of coastline. The island's highest point is Mount Bates (319 metres (1,047 feet) above sea level), located in the northwest quadrant of the island. The majority of the terrain is suitable for farming and other agricultural uses. Phillip Island, the second largest island of the territory, is located at 29°07′S 167°57′E\\ufeff / \\ufeff29.117°S 167.950°E\\ufeff / -29.117; 167.950, seven kilometres (4.3 miles) south of the main island.\",\n",
       "   'is_supporting': False},\n",
       "  {'idx': 10,\n",
       "   'title': 'Perm',\n",
       "   'paragraph_text': 'Perm (;) is a city and the administrative centre of Perm Krai, Russia, located on the banks of the Kama River in the European part of Russia near the Ural Mountains.',\n",
       "   'is_supporting': True},\n",
       "  {'idx': 11,\n",
       "   'title': 'Zvezda Stadium',\n",
       "   'paragraph_text': 'Star (Zvezda) Stadium (), until 1991 Lenin Komsomol Stadium (), is a multi-use stadium in Perm, Russia. It is currently used mostly for football matches and is the home ground of FC Amkar Perm. The stadium holds 17,000 people and was opened on June 5, 1969.',\n",
       "   'is_supporting': True},\n",
       "  {'idx': 12,\n",
       "   'title': 'Paea',\n",
       "   'paragraph_text': 'Paea is a commune in the suburbs of Papeete in French Polynesia, an overseas territory of France in the southern Pacific Ocean. Paea is located on the island of Tahiti, in the administrative subdivision of the Windward Islands, themselves part of the Society Islands. At the 2017 census it had a population of 13,021.',\n",
       "   'is_supporting': False},\n",
       "  {'idx': 13,\n",
       "   'title': 'Potamogeton amplifolius',\n",
       "   'paragraph_text': 'Potamogeton amplifolius, commonly known as largeleaf pondweed or broad-leaved pondweed, is an aquatic plant of North America. It grows in water bodies such as lakes, ponds, and rivers, often in deep water.',\n",
       "   'is_supporting': False},\n",
       "  {'idx': 14,\n",
       "   'title': 'Biysky District',\n",
       "   'paragraph_text': \"Biysky District () is an administrative and municipal district (raion), one of the fifty-nine in Altai Krai, Russia. It is located in the east of the krai and borders with Zonalny, Tselinny, Soltonsky, Krasnogorsky, Sovetsky, and Smolensky Districts, as well as with the territory of the City of Biysk. The area of the district is . Its administrative center is the city of Biysk (which is not administratively a part of the district). District's population:\",\n",
       "   'is_supporting': False},\n",
       "  {'idx': 15,\n",
       "   'title': 'Contoocook Lake',\n",
       "   'paragraph_text': 'Contoocook Lake () is a water body located in Cheshire County in southwestern New Hampshire, United States, in the towns of Jaffrey and Rindge. The lake, along with Pool Pond, forms the headwaters of the Contoocook River, which flows north to the Merrimack River in Penacook, New Hampshire.',\n",
       "   'is_supporting': False},\n",
       "  {'idx': 16,\n",
       "   'title': 'Bogotá',\n",
       "   'paragraph_text': 'Bogotá (/ ˈboʊɡətɑː /, / ˌbɒɡəˈtɑː /, / ˌboʊ - /; Spanish pronunciation: (boɣoˈta) (listen)), officially Bogotá, Distrito Capital, abbreviated Bogotá, D.C., and formerly known as Santafé de Bogotá between 1991 and 2000, is the capital and largest city of Colombia, administered as the Capital District, although often thought of as part of Cundinamarca. Bogotá is a territorial entity of the first order, with the same administrative status as the departments of Colombia. It is the political, economic, administrative, industrial, artistic, cultural, and sports center of the country.',\n",
       "   'is_supporting': False},\n",
       "  {'idx': 17,\n",
       "   'title': 'Body water',\n",
       "   'paragraph_text': \"Intracellular fluid (2 / 3 of body water) is fluid contained within cells. In a 72 - kg body containing 40 litres of fluid, about 25 litres is intracellular, which amounts to 62.5%. Jackson's texts states 70% of body fluid is intracellular.\",\n",
       "   'is_supporting': False},\n",
       "  {'idx': 18,\n",
       "   'title': 'Territorial waters',\n",
       "   'paragraph_text': 'Territorial waters or a territorial sea, as defined by the 1982 United Nations Convention on the Law of the Sea, is a belt of coastal waters extending at most 12 nautical miles (22.2 km; 13.8 mi) from the baseline (usually the mean low - water mark) of a coastal state. The territorial sea is regarded as the sovereign territory of the state, although foreign ships (civilian) are allowed innocent passage through it, or transit passage for straits; this sovereignty also extends to the airspace over and seabed below. Adjustment of these boundaries is called, in international law, maritime delimitation.',\n",
       "   'is_supporting': False},\n",
       "  {'idx': 19,\n",
       "   'title': 'Cyprus Popular Bank',\n",
       "   'paragraph_text': \"Cyprus Popular Bank (from 2006 to 2011 known as Marfin Popular Bank) was the second largest banking group in Cyprus behind the Bank of Cyprus until it was 'shuttered' in March 2013 and split into two parts. The 'good' Cypriot part was merged into the Bank of Cyprus (including insured deposits under 100,000 Euro) and the 'bad' part or legacy entity holds all the overseas operations as well as uninsured deposits above 100,000 Euro, old shares and bonds. The uninsured depositors were subject to a bail-in and became the new shareholders of the legacy entity. As at May 2017, the legacy entity is one of the largest shareholders of Bank of Cyprus with 4.8% but does not hold a board seat. All the overseas operations, of the now defunct Cyprus Popular Bank, are also held by the legacy entity, until they are sold by the Special Administrator, at first Ms Andri Antoniadou, who ran the legacy entity for two years, from March 2013 until 3 March 2015. She tendered her resignation due to disagreements, with the Governor of the Central Bank of Cyprus and the Central Bank Board members, who amended the lawyers of the legacy entity, without consulting her. Veteran banker Chris Pavlou who is an expert in Treasury and risk management took over as Special Administrator of the legacy entity in April 2015 until December 2016. The legacy entity is pursuing legal action against former major shareholder Marfin Investment Group.\",\n",
       "   'is_supporting': False}],\n",
       " 'question': 'What is the body of water by the city where Zvezda stadium is located?',\n",
       " 'question_decomposition': [{'id': 604134,\n",
       "   'question': 'Zvezda >> located in the administrative territorial entity',\n",
       "   'answer': 'Perm',\n",
       "   'paragraph_support_idx': 11},\n",
       "  {'id': 131944,\n",
       "   'question': 'Which is the body of water by #1 ?',\n",
       "   'answer': 'Kama River',\n",
       "   'paragraph_support_idx': 10}],\n",
       " 'answer': 'Kama River',\n",
       " 'answer_aliases': ['Kama'],\n",
       " 'answerable': True}"
      ]
     },
     "execution_count": 47,
     "metadata": {},
     "output_type": "execute_result"
    }
   ],
   "source": [
    "lines[-2]"
   ]
  },
  {
   "cell_type": "code",
   "execution_count": 48,
   "metadata": {},
   "outputs": [
    {
     "data": {
      "text/plain": [
       "[{'idx': 0,\n",
       "  'title': 'Commonwealth of the Philippines',\n",
       "  'paragraph_text': \"The Commonwealth of the Philippines (; ) was the administrative body that governed the Philippines from 1935 to 1946, aside from a period of exile in the Second World War from 1942 to 1945 when Japan occupied the country. It replaced the Insular Government, a United States territorial government, and was established by the Tydings–McDuffie Act. The Commonwealth was designed as a transitional administration in preparation for the country's full achievement of independence.\",\n",
       "  'is_supporting': False},\n",
       " {'idx': 1,\n",
       "  'title': 'Lake Oesa',\n",
       "  'paragraph_text': 'Lake Oesa is a body of water located at an elevation of 2,267m (7438 ft) in the mountains of Yoho National Park, near Field, British Columbia, Canada.',\n",
       "  'is_supporting': False},\n",
       " {'idx': 2,\n",
       "  'title': 'Arafura Swamp',\n",
       "  'paragraph_text': 'The Arafura Swamp is a large inland freshwater wetland in Arnhem Land, in the Top End of the Northern Territory of Australia. It is a near pristine floodplain with an area of that may expand to by the end of the wet season, making it the largest wooded swamp in the Northern Territory and, possibly, in Australia. It has a strong seasonal variation in depth of water. The area is of great cultural significance to the Yolngu people, in particular the Ramingining community. It was the filming location for the film \"Ten Canoes\".',\n",
       "  'is_supporting': False},\n",
       " {'idx': 3,\n",
       "  'title': 'Wapizagonke Lake',\n",
       "  'paragraph_text': 'The Wapizagonke Lake is one of the bodies of water located the sector \"Lac-Wapizagonke\", in the city of Shawinigan, in the La Mauricie National Park, in the region of Mauricie, in Quebec, in Canada.',\n",
       "  'is_supporting': False},\n",
       " {'idx': 4,\n",
       "  'title': 'Khabarovsky District',\n",
       "  'paragraph_text': 'Khabarovsky District () is an administrative and municipal district (raion), one of the seventeen in Khabarovsk Krai, Russia. It consists of two unconnected segments separated by the territory of Amursky District, which are located in the southwest of the krai. The area of the district is . Its administrative center is the city of Khabarovsk (which is not administratively a part of the district). Population:',\n",
       "  'is_supporting': False},\n",
       " {'idx': 5,\n",
       "  'title': 'Silver Lake (Harrisville, New Hampshire)',\n",
       "  'paragraph_text': 'Silver Lake is a water body located in Cheshire County in southwestern New Hampshire, United States, in the towns of Harrisville and Nelson. Water from Silver Lake flows via Minnewawa Brook and The Branch to the Ashuelot River, a tributary of the Connecticut River.',\n",
       "  'is_supporting': False},\n",
       " {'idx': 6,\n",
       "  'title': 'Hyderabad',\n",
       "  'paragraph_text': 'The jurisdictions of the city\\'s administrative agencies are, in ascending order of size: the Hyderabad Police area, Hyderabad district, the GHMC area (\"Hyderabad city\") and the area under the Hyderabad Metropolitan Development Authority (HMDA). The HMDA is an apolitical urban planning agency that covers the GHMC and its suburbs, extending to 54 mandals in five districts encircling the city. It coordinates the development activities of GHMC and suburban municipalities and manages the administration of bodies such as the Hyderabad Metropolitan Water Supply and Sewerage Board (HMWSSB).',\n",
       "  'is_supporting': False},\n",
       " {'idx': 7,\n",
       "  'title': 'San Juan, Puerto Rico',\n",
       "  'paragraph_text': \"San Juan is located along the north - eastern coast of Puerto Rico. It lies south of the Atlantic Ocean; north of Caguas and Trujillo Alto; east of and Guaynabo; and west of Carolina. The city occupies an area of 76.93 square miles (199.2 km), of which, 29.11 square miles (75.4 km) (37.83%) is water. San Juan's main water bodies are San Juan Bay and two natural lagoons, the Condado and San José.\",\n",
       "  'is_supporting': False},\n",
       " {'idx': 8,\n",
       "  'title': 'States of Germany',\n",
       "  'paragraph_text': 'Local associations of a special kind are an amalgamation of one or more Landkreise with one or more Kreisfreie Städte to form a replacement of the aforementioned administrative entities at the district level. They are intended to implement simplification of administration at that level. Typically, a district-free city or town and its urban hinterland are grouped into such an association, or Kommunalverband besonderer Art. Such an organization requires the issuing of special laws by the governing state, since they are not covered by the normal administrative structure of the respective states.',\n",
       "  'is_supporting': False},\n",
       " {'idx': 9,\n",
       "  'title': 'Norfolk Island',\n",
       "  'paragraph_text': \"Norfolk Island is located in the South Pacific Ocean, east of the Australian mainland. Norfolk Island is the main island of the island group the territory encompasses and is located at 29°02′S 167°57′E\\ufeff / \\ufeff29.033°S 167.950°E\\ufeff / -29.033; 167.950. It has an area of 34.6 square kilometres (13.4 sq mi), with no large-scale internal bodies of water and 32 km (20 mi) of coastline. The island's highest point is Mount Bates (319 metres (1,047 feet) above sea level), located in the northwest quadrant of the island. The majority of the terrain is suitable for farming and other agricultural uses. Phillip Island, the second largest island of the territory, is located at 29°07′S 167°57′E\\ufeff / \\ufeff29.117°S 167.950°E\\ufeff / -29.117; 167.950, seven kilometres (4.3 miles) south of the main island.\",\n",
       "  'is_supporting': False},\n",
       " {'idx': 10,\n",
       "  'title': 'Perm',\n",
       "  'paragraph_text': 'Perm (;) is a city and the administrative centre of Perm Krai, Russia, located on the banks of the Kama River in the European part of Russia near the Ural Mountains.',\n",
       "  'is_supporting': True},\n",
       " {'idx': 11,\n",
       "  'title': 'Zvezda Stadium',\n",
       "  'paragraph_text': 'Star (Zvezda) Stadium (), until 1991 Lenin Komsomol Stadium (), is a multi-use stadium in Perm, Russia. It is currently used mostly for football matches and is the home ground of FC Amkar Perm. The stadium holds 17,000 people and was opened on June 5, 1969.',\n",
       "  'is_supporting': True},\n",
       " {'idx': 12,\n",
       "  'title': 'Paea',\n",
       "  'paragraph_text': 'Paea is a commune in the suburbs of Papeete in French Polynesia, an overseas territory of France in the southern Pacific Ocean. Paea is located on the island of Tahiti, in the administrative subdivision of the Windward Islands, themselves part of the Society Islands. At the 2017 census it had a population of 13,021.',\n",
       "  'is_supporting': False},\n",
       " {'idx': 13,\n",
       "  'title': 'Potamogeton amplifolius',\n",
       "  'paragraph_text': 'Potamogeton amplifolius, commonly known as largeleaf pondweed or broad-leaved pondweed, is an aquatic plant of North America. It grows in water bodies such as lakes, ponds, and rivers, often in deep water.',\n",
       "  'is_supporting': False},\n",
       " {'idx': 14,\n",
       "  'title': 'Biysky District',\n",
       "  'paragraph_text': \"Biysky District () is an administrative and municipal district (raion), one of the fifty-nine in Altai Krai, Russia. It is located in the east of the krai and borders with Zonalny, Tselinny, Soltonsky, Krasnogorsky, Sovetsky, and Smolensky Districts, as well as with the territory of the City of Biysk. The area of the district is . Its administrative center is the city of Biysk (which is not administratively a part of the district). District's population:\",\n",
       "  'is_supporting': False},\n",
       " {'idx': 15,\n",
       "  'title': 'Contoocook Lake',\n",
       "  'paragraph_text': 'Contoocook Lake () is a water body located in Cheshire County in southwestern New Hampshire, United States, in the towns of Jaffrey and Rindge. The lake, along with Pool Pond, forms the headwaters of the Contoocook River, which flows north to the Merrimack River in Penacook, New Hampshire.',\n",
       "  'is_supporting': False},\n",
       " {'idx': 16,\n",
       "  'title': 'Bogotá',\n",
       "  'paragraph_text': 'Bogotá (/ ˈboʊɡətɑː /, / ˌbɒɡəˈtɑː /, / ˌboʊ - /; Spanish pronunciation: (boɣoˈta) (listen)), officially Bogotá, Distrito Capital, abbreviated Bogotá, D.C., and formerly known as Santafé de Bogotá between 1991 and 2000, is the capital and largest city of Colombia, administered as the Capital District, although often thought of as part of Cundinamarca. Bogotá is a territorial entity of the first order, with the same administrative status as the departments of Colombia. It is the political, economic, administrative, industrial, artistic, cultural, and sports center of the country.',\n",
       "  'is_supporting': False},\n",
       " {'idx': 17,\n",
       "  'title': 'Body water',\n",
       "  'paragraph_text': \"Intracellular fluid (2 / 3 of body water) is fluid contained within cells. In a 72 - kg body containing 40 litres of fluid, about 25 litres is intracellular, which amounts to 62.5%. Jackson's texts states 70% of body fluid is intracellular.\",\n",
       "  'is_supporting': False},\n",
       " {'idx': 18,\n",
       "  'title': 'Territorial waters',\n",
       "  'paragraph_text': 'Territorial waters or a territorial sea, as defined by the 1982 United Nations Convention on the Law of the Sea, is a belt of coastal waters extending at most 12 nautical miles (22.2 km; 13.8 mi) from the baseline (usually the mean low - water mark) of a coastal state. The territorial sea is regarded as the sovereign territory of the state, although foreign ships (civilian) are allowed innocent passage through it, or transit passage for straits; this sovereignty also extends to the airspace over and seabed below. Adjustment of these boundaries is called, in international law, maritime delimitation.',\n",
       "  'is_supporting': False},\n",
       " {'idx': 19,\n",
       "  'title': 'Cyprus Popular Bank',\n",
       "  'paragraph_text': \"Cyprus Popular Bank (from 2006 to 2011 known as Marfin Popular Bank) was the second largest banking group in Cyprus behind the Bank of Cyprus until it was 'shuttered' in March 2013 and split into two parts. The 'good' Cypriot part was merged into the Bank of Cyprus (including insured deposits under 100,000 Euro) and the 'bad' part or legacy entity holds all the overseas operations as well as uninsured deposits above 100,000 Euro, old shares and bonds. The uninsured depositors were subject to a bail-in and became the new shareholders of the legacy entity. As at May 2017, the legacy entity is one of the largest shareholders of Bank of Cyprus with 4.8% but does not hold a board seat. All the overseas operations, of the now defunct Cyprus Popular Bank, are also held by the legacy entity, until they are sold by the Special Administrator, at first Ms Andri Antoniadou, who ran the legacy entity for two years, from March 2013 until 3 March 2015. She tendered her resignation due to disagreements, with the Governor of the Central Bank of Cyprus and the Central Bank Board members, who amended the lawyers of the legacy entity, without consulting her. Veteran banker Chris Pavlou who is an expert in Treasury and risk management took over as Special Administrator of the legacy entity in April 2015 until December 2016. The legacy entity is pursuing legal action against former major shareholder Marfin Investment Group.\",\n",
       "  'is_supporting': False}]"
      ]
     },
     "execution_count": 48,
     "metadata": {},
     "output_type": "execute_result"
    }
   ],
   "source": [
    "paragraphs = lines[-2]['paragraphs']\n",
    "paragraphs\n",
    "\n",
    "\n"
   ]
  },
  {
   "cell_type": "code",
   "execution_count": 62,
   "metadata": {
    "tags": [
     "token_len"
    ]
   },
   "outputs": [
    {
     "name": "stdout",
     "output_type": "stream",
     "text": [
      "('The Commonwealth of the Philippines (; ) was the administrative body that '\n",
      " 'governed the Philippines from 1935 to 1946, aside from a period of exile in '\n",
      " 'the Second World War from 1942 to 1945 when Japan occupied the country. It '\n",
      " 'replaced the Insular Government, a United States territorial government, and '\n",
      " 'was established by the Tydings–McDuffie Act. The Commonwealth was designed '\n",
      " \"as a transitional administration in preparation for the country's full \"\n",
      " 'achievement of independence.')\n",
      "Token length:  95\n"
     ]
    }
   ],
   "source": [
    "import tiktoken\n",
    "\n",
    "def token_len(text: str, model: str = \"gpt-4\") -> int:\n",
    "    encoder = tiktoken.encoding_for_model(model)\n",
    "    return len(encoder.encode(text))\n",
    "\n",
    "pprint(paragraphs[0]['paragraph_text'])\n",
    "print('Token length: ', token_len(paragraphs[0]['paragraph_text']))\n"
   ]
  },
  {
   "cell_type": "code",
   "execution_count": 70,
   "metadata": {
    "tags": [
     "split_examples"
    ]
   },
   "outputs": [
    {
     "data": {
      "text/markdown": [
       "**Paragraph 1**"
      ],
      "text/plain": [
       "<IPython.core.display.Markdown object>"
      ]
     },
     "metadata": {},
     "output_type": "display_data"
    },
    {
     "name": "stdout",
     "output_type": "stream",
     "text": [
      "[('Token length: 20',\n",
      "  'The Commonwealth of the Philippines (; ) was the administrative body that '\n",
      "  'governed the Philippines from 1935 to'),\n",
      " ('Token length: 20',\n",
      "  'from 1935 to 1946, aside from a period of exile in the Second World War'),\n",
      " ('Token length: 20',\n",
      "  'in the Second World War from 1942 to 1945 when Japan occupied the country. '\n",
      "  'It'),\n",
      " ('Token length: 20',\n",
      "  'occupied the country. It replaced the Insular Government, a United States '\n",
      "  'territorial government, and was established'),\n",
      " ('Token length: 20',\n",
      "  'government, and was established by the Tydings–McDuffie Act. The '\n",
      "  'Commonwealth was designed'),\n",
      " ('Token length: 19',\n",
      "  'The Commonwealth was designed as a transitional administration in '\n",
      "  \"preparation for the country's full achievement of independence.\")]\n"
     ]
    },
    {
     "data": {
      "text/markdown": [
       "**Paragraph 2**"
      ],
      "text/plain": [
       "<IPython.core.display.Markdown object>"
      ]
     },
     "metadata": {},
     "output_type": "display_data"
    },
    {
     "data": {
      "text/plain": [
       "[('Token length: 18',\n",
       "  'Lake Oesa is a body of water located at an elevation of 2,267m'),\n",
       " ('Token length: 19',\n",
       "  '2,267m (7438 ft) in the mountains of Yoho National Park, near'),\n",
       " ('Token length: 11', 'National Park, near Field, British Columbia, Canada.')]"
      ]
     },
     "metadata": {},
     "output_type": "display_data"
    }
   ],
   "source": [
    "from langchain_text_splitters import RecursiveCharacterTextSplitter\n",
    "\n",
    "text_splitter = RecursiveCharacterTextSplitter(chunk_size=20, chunk_overlap=5, length_function=token_len)\n",
    "splits0 = text_splitter.split_text(paragraphs[0]['paragraph_text'])\n",
    "splits0_tups = [('Token length: ' + str(token_len(s)), s) for s in splits0]\n",
    "splits1 = text_splitter.split_text(paragraphs[1]['paragraph_text'])\n",
    "splits1_tups = [('Token length: ' + str(token_len(s)), s) for s in splits1]\n",
    "\n",
    "display(Markdown('**Paragraph 1**'))\n",
    "pprint(splits0_tups)\n",
    "display(Markdown('**Paragraph 2**'))\n",
    "display(splits1_tups)"
   ]
  },
  {
   "cell_type": "markdown",
   "metadata": {},
   "source": [
    "# Prompting"
   ]
  },
  {
   "cell_type": "code",
   "execution_count": 149,
   "metadata": {},
   "outputs": [
    {
     "data": {
      "text/plain": [
       "True"
      ]
     },
     "execution_count": 149,
     "metadata": {},
     "output_type": "execute_result"
    }
   ],
   "source": [
    "from dotenv import load_dotenv\n",
    "load_dotenv()"
   ]
  },
  {
   "cell_type": "code",
   "execution_count": null,
   "metadata": {},
   "outputs": [],
   "source": []
  },
  {
   "cell_type": "code",
   "execution_count": 10,
   "metadata": {
    "tags": [
     "model_load"
    ]
   },
   "outputs": [
    {
     "data": {
      "text/plain": [
       "AIMessage(content=\"Here's a mildly silly joke about airplanes and horses:\\n\\nWhy did the horse refuse to get on the airplane? Because it already had a stable flight plan!\", response_metadata={'id': 'msg_01K9jCUru7b4TiBBC6eaWRxf', 'model': 'claude-3-haiku-20240307', 'stop_reason': 'end_turn', 'stop_sequence': None, 'usage': {'input_tokens': 18, 'output_tokens': 39}}, id='run-2cb963b0-3180-432e-95a7-368169c5bef0-0')"
      ]
     },
     "metadata": {},
     "output_type": "display_data"
    },
    {
     "name": "stdout",
     "output_type": "stream",
     "text": [
      "==================================\u001b[1m Ai Message \u001b[0m==================================\n",
      "\n",
      "Here's a mildly silly joke about airplanes and horses:\n",
      "\n",
      "Why did the horse refuse to get on the airplane? Because it already had a stable flight plan!\n"
     ]
    }
   ],
   "source": [
    "from dotenv import load_dotenv\n",
    "from langchain_anthropic import ChatAnthropic\n",
    "\n",
    "load_dotenv()\n",
    "\n",
    "chat_model = ChatAnthropic(model_name='claude-3-haiku-20240307')\n",
    "joke = chat_model.invoke(\"Tell me a mid joke about airplanes and horses\")\n",
    "display(joke)\n",
    "joke.pretty_print()"
   ]
  },
  {
   "cell_type": "code",
   "execution_count": 72,
   "metadata": {
    "tags": [
     "pydantic"
    ]
   },
   "outputs": [
    {
     "data": {
      "text/plain": [
       "{'$defs': {'Edge': {'properties': {'from_node': {'description': 'The id of the node from which the edge originates. Only semantic_ids belong here, nothing else.',\n",
       "     'title': 'From Node',\n",
       "     'type': 'string'},\n",
       "    'to_node': {'description': 'The id of the node to which the edge connects. Only semantic_ids belong here, nothing else.',\n",
       "     'title': 'To Node',\n",
       "     'type': 'string'},\n",
       "    'category': {'description': 'The type of the relationship',\n",
       "     'title': 'Category',\n",
       "     'type': 'string'},\n",
       "    'attributes': {'anyOf': [{'additionalProperties': {'anyOf': [{'type': 'string'},\n",
       "         {'type': 'integer'},\n",
       "         {'type': 'boolean'}]},\n",
       "       'type': 'object'},\n",
       "      {'type': 'null'}],\n",
       "     'default': None,\n",
       "     'description': 'Additional properties of the edge',\n",
       "     'title': 'Attributes'}},\n",
       "   'required': ['from_node', 'to_node', 'category'],\n",
       "   'title': 'Edge',\n",
       "   'type': 'object'},\n",
       "  'Node': {'properties': {'semantic_id': {'description': 'The unique identifier of the node that is                              a reference to create edges between different nodes.',\n",
       "     'title': 'Semantic Id',\n",
       "     'type': 'string'},\n",
       "    'category': {'description': 'The category of the node',\n",
       "     'title': 'Category',\n",
       "     'type': 'string'},\n",
       "    'attributes': {'anyOf': [{'additionalProperties': {'anyOf': [{'type': 'string'},\n",
       "         {'type': 'integer'},\n",
       "         {'type': 'boolean'}]},\n",
       "       'type': 'object'},\n",
       "      {'type': 'null'}],\n",
       "     'default': None,\n",
       "     'description': 'Additional properties of the node',\n",
       "     'title': 'Attributes'}},\n",
       "   'required': ['semantic_id', 'category'],\n",
       "   'title': 'Node',\n",
       "   'type': 'object'}},\n",
       " 'properties': {'nodes': {'description': 'A list of nodes in the graph',\n",
       "   'items': {'$ref': '#/$defs/Node'},\n",
       "   'title': 'Nodes',\n",
       "   'type': 'array'},\n",
       "  'edges': {'description': 'A list of edges in the graph',\n",
       "   'items': {'$ref': '#/$defs/Edge'},\n",
       "   'title': 'Edges',\n",
       "   'type': 'array'}},\n",
       " 'required': ['nodes', 'edges'],\n",
       " 'title': 'Graph',\n",
       " 'type': 'object'}"
      ]
     },
     "execution_count": 72,
     "metadata": {},
     "output_type": "execute_result"
    }
   ],
   "source": [
    "#| code-fold: false\n",
    "\n",
    "from pydantic import BaseModel, Field\n",
    "from typing import Dict, List, Union, Tuple, Optional\n",
    "import json\n",
    "\n",
    "class Node(BaseModel):\n",
    "    semantic_id: str = Field(..., description=\"The unique identifier of the node that is \\\n",
    "                             a reference to create edges between different nodes.\")\n",
    "    category: str = Field(..., description=\"The category of the node\")\n",
    "    attributes: Optional[Dict[str, Union[str, int, bool]]] = Field(None, description=\"Additional properties of the node\")\n",
    "\n",
    "class Edge(BaseModel):\n",
    "    from_node: str = Field(..., description=\"The id of the node from which the edge originates. Only semantic_ids belong here, nothing else.\")\n",
    "    to_node: str = Field(..., description=\"The id of the node to which the edge connects. Only semantic_ids belong here, nothing else.\")\n",
    "    category: str = Field(..., description=\"The type of the relationship\")\n",
    "    attributes: Optional[Dict[str, Union[str, int, bool]]] = Field(None, description=\"Additional properties of the edge\")\n",
    "\n",
    "class Graph(BaseModel):\n",
    "    nodes: List[Node] = Field(...,description=\"A list of nodes in the graph\")\n",
    "    edges: List[Edge] = Field(...,description=\"A list of edges in the graph\")\n",
    "\n",
    "Graph.model_json_schema()"
   ]
  },
  {
   "cell_type": "code",
   "execution_count": 13,
   "metadata": {},
   "outputs": [
    {
     "data": {
      "text/plain": [
       "{'$defs': {'Edge': {'properties': {'from_node': {'description': 'The id of the node from which the edge originates. Only semantic_ids belong here, nothing else.',\n",
       "     'title': 'From Node',\n",
       "     'type': 'string'},\n",
       "    'to_node': {'description': 'The id of the node to which the edge connects. Only semantic_ids belong here, nothing else.',\n",
       "     'title': 'To Node',\n",
       "     'type': 'string'},\n",
       "    'category': {'description': 'The type of the relationship',\n",
       "     'title': 'Category',\n",
       "     'type': 'string'},\n",
       "    'attributes': {'anyOf': [{'additionalProperties': {'anyOf': [{'type': 'string'},\n",
       "         {'type': 'integer'},\n",
       "         {'type': 'boolean'}]},\n",
       "       'type': 'object'},\n",
       "      {'type': 'null'}],\n",
       "     'default': None,\n",
       "     'description': 'Additional properties of the edge',\n",
       "     'title': 'Attributes'}},\n",
       "   'required': ['from_node', 'to_node', 'category'],\n",
       "   'title': 'Edge',\n",
       "   'type': 'object'},\n",
       "  'Node': {'properties': {'semantic_id': {'description': 'The unique identifier of the node that is                              a reference to create edges between different nodes.',\n",
       "     'title': 'Semantic Id',\n",
       "     'type': 'string'},\n",
       "    'category': {'description': 'The category of the node',\n",
       "     'title': 'Category',\n",
       "     'type': 'string'},\n",
       "    'attributes': {'anyOf': [{'additionalProperties': {'anyOf': [{'type': 'string'},\n",
       "         {'type': 'integer'},\n",
       "         {'type': 'boolean'}]},\n",
       "       'type': 'object'},\n",
       "      {'type': 'null'}],\n",
       "     'default': None,\n",
       "     'description': 'Additional properties of the node',\n",
       "     'title': 'Attributes'}},\n",
       "   'required': ['semantic_id', 'category'],\n",
       "   'title': 'Node',\n",
       "   'type': 'object'}},\n",
       " 'properties': {'nodes': {'description': 'A list of nodes in the graph',\n",
       "   'items': {'$ref': '#/$defs/Node'},\n",
       "   'title': 'Nodes',\n",
       "   'type': 'array'},\n",
       "  'edges': {'description': 'A list of edges in the graph',\n",
       "   'items': {'$ref': '#/$defs/Edge'},\n",
       "   'title': 'Edges',\n",
       "   'type': 'array'}},\n",
       " 'required': ['nodes', 'edges'],\n",
       " 'title': 'Graph',\n",
       " 'type': 'object'}"
      ]
     },
     "execution_count": 13,
     "metadata": {},
     "output_type": "execute_result"
    }
   ],
   "source": [
    "Graph.model_json_schema()"
   ]
  },
  {
   "cell_type": "code",
   "execution_count": 75,
   "metadata": {},
   "outputs": [
    {
     "data": {
      "text/plain": [
       "'{\"$defs\": {\"Edge\": {\"properties\": {\"from_node\": {\"description\": \"The id of the node from which the edge originates. Only semantic_ids belong here, nothing else.\", \"title\": \"From Node\", \"type\": \"string\"}, \"to_node\": {\"description\": \"The id of the node to which the edge connects. Only semantic_ids belong here, nothing else.\", \"title\": \"To Node\", \"type\": \"string\"}, \"category\": {\"description\": \"The type of the relationship\", \"title\": \"Category\", \"type\": \"string\"}, \"attributes\": {\"anyOf\": [{\"additionalProperties\": {\"anyOf\": [{\"type\": \"string\"}, {\"type\": \"integer\"}, {\"type\": \"boolean\"}]}, \"type\": \"object\"}, {\"type\": \"null\"}], \"default\": null, \"description\": \"Additional properties of the edge\", \"title\": \"Attributes\"}}, \"required\": [\"from_node\", \"to_node\", \"category\"], \"title\": \"Edge\", \"type\": \"object\"}, \"Node\": {\"properties\": {\"semantic_id\": {\"description\": \"The unique identifier of the node that is                              a reference to create edges between different nodes.\", \"title\": \"Semantic Id\", \"type\": \"string\"}, \"category\": {\"description\": \"The category of the node\", \"title\": \"Category\", \"type\": \"string\"}, \"attributes\": {\"anyOf\": [{\"additionalProperties\": {\"anyOf\": [{\"type\": \"string\"}, {\"type\": \"integer\"}, {\"type\": \"boolean\"}]}, \"type\": \"object\"}, {\"type\": \"null\"}], \"default\": null, \"description\": \"Additional properties of the node\", \"title\": \"Attributes\"}}, \"required\": [\"semantic_id\", \"category\"], \"title\": \"Node\", \"type\": \"object\"}}, \"properties\": {\"nodes\": {\"description\": \"A list of nodes in the graph\", \"items\": {\"$ref\": \"#/$defs/Node\"}, \"title\": \"Nodes\", \"type\": \"array\"}, \"edges\": {\"description\": \"A list of edges in the graph\", \"items\": {\"$ref\": \"#/$defs/Edge\"}, \"title\": \"Edges\", \"type\": \"array\"}}, \"required\": [\"nodes\", \"edges\"], \"title\": \"Graph\", \"type\": \"object\"}'"
      ]
     },
     "execution_count": 75,
     "metadata": {},
     "output_type": "execute_result"
    }
   ],
   "source": [
    "json.dumps(Graph.model_json_schema())\n"
   ]
  },
  {
   "cell_type": "code",
   "execution_count": 84,
   "metadata": {
    "tags": [
     "json_instructions"
    ]
   },
   "outputs": [
    {
     "name": "stdout",
     "output_type": "stream",
     "text": [
      "('We need to create a JSON object that contains a list of nodes and edges that '\n",
      " 'connect the nodes.\\n'\n",
      " 'Both, nodes and edges, have optional attributes.\\n'\n",
      " 'Your goal is to extract as much pertinent information from the passage as '\n",
      " 'possible and create nodes and edges with the extracted information.\\n'\n",
      " 'If history is provided, it will be in the JSON schema you are given. You may '\n",
      " 'create new connections between the nodes and edges in the history and the '\n",
      " 'new nodes you are producing.\\n'\n",
      " 'If you wish to change/update any of the node attributes in the provided '\n",
      " 'history based on newly gathered information, simply reuse the semantic_ids '\n",
      " 'of the nodes you wish to change.\\n'\n",
      " 'If you wish to modify/update the edge attributes in the history, reuse the '\n",
      " \"semantic_ids of the 'from' and 'to' nodes of any edge you wish to change.\\n\"\n",
      " 'Use the following schema and make sure to read the descriptions:\\n'\n",
      " '{\"$defs\": {\"Edge\": {\"properties\": {\"from_node\": {\"description\": \"The id of '\n",
      " 'the node from which the edge originates. Only semantic_ids belong here, '\n",
      " 'nothing else.\", \"title\": \"From Node\", \"type\": \"string\"}, \"to_node\": '\n",
      " '{\"description\": \"The id of the node to which the edge connects. Only '\n",
      " 'semantic_ids belong here, nothing else.\", \"title\": \"To Node\", \"type\": '\n",
      " '\"string\"}, \"category\": {\"description\": \"The type of the relationship\", '\n",
      " '\"title\": \"Category\", \"type\": \"string\"}, \"attributes\": {\"anyOf\": '\n",
      " '[{\"additionalProperties\": {\"anyOf\": [{\"type\": \"string\"}, {\"type\": '\n",
      " '\"integer\"}, {\"type\": \"boolean\"}]}, \"type\": \"object\"}, {\"type\": \"null\"}], '\n",
      " '\"default\": null, \"description\": \"Additional properties of the edge\", '\n",
      " '\"title\": \"Attributes\"}}, \"required\": [\"from_node\", \"to_node\", \"category\"], '\n",
      " '\"title\": \"Edge\", \"type\": \"object\"}, \"Node\": {\"properties\": {\"semantic_id\": '\n",
      " '{\"description\": \"The unique identifier of the node that '\n",
      " 'is                              a reference to create edges between '\n",
      " 'different nodes.\", \"title\": \"Semantic Id\", \"type\": \"string\"}, \"category\": '\n",
      " '{\"description\": \"The category of the node\", \"title\": \"Category\", \"type\": '\n",
      " '\"string\"}, \"attributes\": {\"anyOf\": [{\"additionalProperties\": {\"anyOf\": '\n",
      " '[{\"type\": \"string\"}, {\"type\": \"integer\"}, {\"type\": \"boolean\"}]}, \"type\": '\n",
      " '\"object\"}, {\"type\": \"null\"}], \"default\": null, \"description\": \"Additional '\n",
      " 'properties of the node\", \"title\": \"Attributes\"}}, \"required\": '\n",
      " '[\"semantic_id\", \"category\"], \"title\": \"Node\", \"type\": \"object\"}}, '\n",
      " '\"properties\": {\"nodes\": {\"description\": \"A list of nodes in the graph\", '\n",
      " '\"items\": {\"$ref\": \"#/$defs/Node\"}, \"title\": \"Nodes\", \"type\": \"array\"}, '\n",
      " '\"edges\": {\"description\": \"A list of edges in the graph\", \"items\": {\"$ref\": '\n",
      " '\"#/$defs/Edge\"}, \"title\": \"Edges\", \"type\": \"array\"}}, \"required\": [\"nodes\", '\n",
      " '\"edges\"], \"title\": \"Graph\", \"type\": \"object\"}\\n'\n",
      " '-----\\n')\n"
     ]
    }
   ],
   "source": [
    "#| code-fold: false\n",
    "\n",
    "json_rules = \\\n",
    "\"\"\"We need to create a JSON object that contains a list of nodes and edges that connect the nodes.\n",
    "Both, nodes and edges, have optional attributes.\n",
    "Your goal is to extract as much pertinent information from the passage as possible and create nodes and edges with the extracted information.\n",
    "If history is provided, it will be in the JSON schema you are given. You may create new connections between the nodes and edges in the history and the new nodes you are producing.\n",
    "If you wish to change/update any of the node attributes in the provided history based on newly gathered information, simply reuse the semantic_ids of the nodes you wish to change.\n",
    "If you wish to modify/update the edge attributes in the history, reuse the semantic_ids of the 'from' and 'to' nodes of any edge you wish to change.\n",
    "Use the following schema and make sure to read the descriptions:\n",
    "\"\"\" \n",
    "\n",
    "json_prompt_instructions = \\\n",
    "    json_rules + \\\n",
    "    json.dumps(Graph.model_json_schema()) + \\\n",
    "    \"\\n-----\\n\"\n",
    "\n",
    "pprint(json_prompt_instructions)"
   ]
  },
  {
   "cell_type": "code",
   "execution_count": 118,
   "metadata": {
    "tags": [
     "graph_creator"
    ]
   },
   "outputs": [],
   "source": [
    "#| code-fold: false\n",
    "\n",
    "graph_creator_content = \\\n",
    "\"\"\"You are a brilliant and efficient creator of JSON objects that capture the essence of passages and who follows instructions unbelievably well.\n",
    "You will be first given instructions and a json schema, then you will be provided a passage to extract the information from.\n",
    "Your instructions are:\n",
    "{instructions}\n",
    "History:\n",
    "{history}\n",
    "\"\"\""
   ]
  },
  {
   "cell_type": "code",
   "execution_count": 86,
   "metadata": {
    "tags": [
     "pass_passage"
    ]
   },
   "outputs": [],
   "source": [
    "#| code-fold: false\n",
    "\n",
    "pass_passage_content = \"Below is the passage to extract the values from.\\n*****\\nPassage:\\n{passage}\""
   ]
  },
  {
   "cell_type": "code",
   "execution_count": 136,
   "metadata": {
    "tags": [
     "template_agg"
    ]
   },
   "outputs": [
    {
     "data": {
      "text/plain": [
       "ChatPromptValue(messages=[SystemMessage(content='You are a brilliant and efficient creator of JSON objects that capture the essence of passages and who follows instructions unbelievably well.\\nYou will be first given instructions and a json schema, then you will be provided a passage to extract the information from.\\nYour instructions are:\\nWe need to create a JSON object that contains a list of nodes and edges that connect the nodes.\\nBoth, nodes and edges, have optional attributes.\\nYour goal is to extract as much pertinent information from the passage as possible and create nodes and edges with the extracted information.\\nIf history is provided, it will be in the JSON schema you are given. You may create new connections between the nodes and edges in the history and the new nodes you are producing.\\nIf you wish to change/update any of the node attributes in the provided history based on newly gathered information, simply reuse the semantic_ids of the nodes you wish to change.\\nIf you wish to modify/update the edge attributes in the history, reuse the semantic_ids of the \\'from\\' and \\'to\\' nodes of any edge you wish to change.\\nUse the following schema and make sure to read the descriptions:\\n{\"$defs\": {\"Edge\": {\"properties\": {\"from_node\": {\"description\": \"The id of the node from which the edge originates. Only semantic_ids belong here, nothing else.\", \"title\": \"From Node\", \"type\": \"string\"}, \"to_node\": {\"description\": \"The id of the node to which the edge connects. Only semantic_ids belong here, nothing else.\", \"title\": \"To Node\", \"type\": \"string\"}, \"category\": {\"description\": \"The type of the relationship\", \"title\": \"Category\", \"type\": \"string\"}, \"attributes\": {\"anyOf\": [{\"additionalProperties\": {\"anyOf\": [{\"type\": \"string\"}, {\"type\": \"integer\"}, {\"type\": \"boolean\"}]}, \"type\": \"object\"}, {\"type\": \"null\"}], \"default\": null, \"description\": \"Additional properties of the edge\", \"title\": \"Attributes\"}}, \"required\": [\"from_node\", \"to_node\", \"category\"], \"title\": \"Edge\", \"type\": \"object\"}, \"Node\": {\"properties\": {\"semantic_id\": {\"description\": \"The unique identifier of the node that is                              a reference to create edges between different nodes.\", \"title\": \"Semantic Id\", \"type\": \"string\"}, \"category\": {\"description\": \"The category of the node\", \"title\": \"Category\", \"type\": \"string\"}, \"attributes\": {\"anyOf\": [{\"additionalProperties\": {\"anyOf\": [{\"type\": \"string\"}, {\"type\": \"integer\"}, {\"type\": \"boolean\"}]}, \"type\": \"object\"}, {\"type\": \"null\"}], \"default\": null, \"description\": \"Additional properties of the node\", \"title\": \"Attributes\"}}, \"required\": [\"semantic_id\", \"category\"], \"title\": \"Node\", \"type\": \"object\"}}, \"properties\": {\"nodes\": {\"description\": \"A list of nodes in the graph\", \"items\": {\"$ref\": \"#/$defs/Node\"}, \"title\": \"Nodes\", \"type\": \"array\"}, \"edges\": {\"description\": \"A list of edges in the graph\", \"items\": {\"$ref\": \"#/$defs/Edge\"}, \"title\": \"Edges\", \"type\": \"array\"}}, \"required\": [\"nodes\", \"edges\"], \"title\": \"Graph\", \"type\": \"object\"}\\n-----\\n\\nHistory:\\n\\n'), HumanMessage(content=\"Below is the passage to extract the values from.\\n*****\\nPassage:\\nThe Commonwealth of the Philippines (; ) was the administrative body that governed the Philippines from 1935 to 1946, aside from a period of exile in the Second World War from 1942 to 1945 when Japan occupied the country. It replaced the Insular Government, a United States territorial government, and was established by the Tydings–McDuffie Act. The Commonwealth was designed as a transitional administration in preparation for the country's full achievement of independence.\")])"
      ]
     },
     "execution_count": 136,
     "metadata": {},
     "output_type": "execute_result"
    }
   ],
   "source": [
    "#| code-fold: false\n",
    "\n",
    "from langchain_core.prompts import (\n",
    "    HumanMessagePromptTemplate,\n",
    "    SystemMessagePromptTemplate,\n",
    ")\n",
    "\n",
    "graph_analyst_template = SystemMessagePromptTemplate.from_template(template=graph_creator_content,\n",
    "                                                                   input_variables=['history', 'instructions'])\n",
    "pass_passage_template = HumanMessagePromptTemplate.from_template(pass_passage_content, input_variables=['passage'])\n",
    "\n",
    "gen_template = graph_analyst_template + pass_passage_template\n",
    "\n",
    "gen_template.invoke({'passage': paragraphs[0]['paragraph_text'],\n",
    "                     'history': '',\n",
    "                     'instructions': json_prompt_instructions})\n",
    "\n"
   ]
  },
  {
   "cell_type": "code",
   "execution_count": 128,
   "metadata": {},
   "outputs": [
    {
     "ename": "KeyError",
     "evalue": "'instructions'",
     "output_type": "error",
     "traceback": [
      "\u001b[0;31m---------------------------------------------------------------------------\u001b[0m",
      "\u001b[0;31mKeyError\u001b[0m                                  Traceback (most recent call last)",
      "Cell \u001b[0;32mIn[128], line 4\u001b[0m\n\u001b[1;32m      1\u001b[0m graph_analyst_template \u001b[38;5;241m=\u001b[39m SystemMessagePromptTemplate\u001b[38;5;241m.\u001b[39mfrom_template(template\u001b[38;5;241m=\u001b[39mgraph_creator_content,\n\u001b[1;32m      2\u001b[0m                                                     input_variables\u001b[38;5;241m=\u001b[39m[\u001b[38;5;124m'\u001b[39m\u001b[38;5;124mhistory\u001b[39m\u001b[38;5;124m'\u001b[39m],\n\u001b[1;32m      3\u001b[0m                                                     partial_variables\u001b[38;5;241m=\u001b[39m{\u001b[38;5;124m'\u001b[39m\u001b[38;5;124minstructions\u001b[39m\u001b[38;5;124m'\u001b[39m: json_prompt_instructions})\n\u001b[0;32m----> 4\u001b[0m \u001b[43mgraph_analyst_template\u001b[49m\u001b[38;5;241;43m.\u001b[39;49m\u001b[43mformat\u001b[49m\u001b[43m(\u001b[49m\u001b[43mhistory\u001b[49m\u001b[38;5;241;43m=\u001b[39;49m\u001b[38;5;124;43m'\u001b[39;49m\u001b[38;5;124;43mhistory\u001b[39;49m\u001b[38;5;124;43m'\u001b[39;49m\u001b[43m)\u001b[49m\n",
      "File \u001b[0;32m~/miniconda3/envs/nlp/lib/python3.12/site-packages/langchain_core/prompts/chat.py:535\u001b[0m, in \u001b[0;36m_StringImageMessagePromptTemplate.format\u001b[0;34m(self, **kwargs)\u001b[0m\n\u001b[1;32m    526\u001b[0m \u001b[38;5;250m\u001b[39m\u001b[38;5;124;03m\"\"\"Format the prompt template.\u001b[39;00m\n\u001b[1;32m    527\u001b[0m \n\u001b[1;32m    528\u001b[0m \u001b[38;5;124;03mArgs:\u001b[39;00m\n\u001b[0;32m   (...)\u001b[0m\n\u001b[1;32m    532\u001b[0m \u001b[38;5;124;03m    Formatted message.\u001b[39;00m\n\u001b[1;32m    533\u001b[0m \u001b[38;5;124;03m\"\"\"\u001b[39;00m\n\u001b[1;32m    534\u001b[0m \u001b[38;5;28;01mif\u001b[39;00m \u001b[38;5;28misinstance\u001b[39m(\u001b[38;5;28mself\u001b[39m\u001b[38;5;241m.\u001b[39mprompt, StringPromptTemplate):\n\u001b[0;32m--> 535\u001b[0m     text \u001b[38;5;241m=\u001b[39m \u001b[38;5;28;43mself\u001b[39;49m\u001b[38;5;241;43m.\u001b[39;49m\u001b[43mprompt\u001b[49m\u001b[38;5;241;43m.\u001b[39;49m\u001b[43mformat\u001b[49m\u001b[43m(\u001b[49m\u001b[38;5;241;43m*\u001b[39;49m\u001b[38;5;241;43m*\u001b[39;49m\u001b[43mkwargs\u001b[49m\u001b[43m)\u001b[49m\n\u001b[1;32m    536\u001b[0m     \u001b[38;5;28;01mreturn\u001b[39;00m \u001b[38;5;28mself\u001b[39m\u001b[38;5;241m.\u001b[39m_msg_class(\n\u001b[1;32m    537\u001b[0m         content\u001b[38;5;241m=\u001b[39mtext, additional_kwargs\u001b[38;5;241m=\u001b[39m\u001b[38;5;28mself\u001b[39m\u001b[38;5;241m.\u001b[39madditional_kwargs\n\u001b[1;32m    538\u001b[0m     )\n\u001b[1;32m    539\u001b[0m \u001b[38;5;28;01melse\u001b[39;00m:\n",
      "File \u001b[0;32m~/miniconda3/envs/nlp/lib/python3.12/site-packages/langchain_core/prompts/prompt.py:127\u001b[0m, in \u001b[0;36mPromptTemplate.format\u001b[0;34m(self, **kwargs)\u001b[0m\n\u001b[1;32m    125\u001b[0m \u001b[38;5;28;01mdef\u001b[39;00m \u001b[38;5;21mformat\u001b[39m(\u001b[38;5;28mself\u001b[39m, \u001b[38;5;241m*\u001b[39m\u001b[38;5;241m*\u001b[39mkwargs: Any) \u001b[38;5;241m-\u001b[39m\u001b[38;5;241m>\u001b[39m \u001b[38;5;28mstr\u001b[39m:\n\u001b[1;32m    126\u001b[0m     kwargs \u001b[38;5;241m=\u001b[39m \u001b[38;5;28mself\u001b[39m\u001b[38;5;241m.\u001b[39m_merge_partial_and_user_variables(\u001b[38;5;241m*\u001b[39m\u001b[38;5;241m*\u001b[39mkwargs)\n\u001b[0;32m--> 127\u001b[0m     \u001b[38;5;28;01mreturn\u001b[39;00m \u001b[43mDEFAULT_FORMATTER_MAPPING\u001b[49m\u001b[43m[\u001b[49m\u001b[38;5;28;43mself\u001b[39;49m\u001b[38;5;241;43m.\u001b[39;49m\u001b[43mtemplate_format\u001b[49m\u001b[43m]\u001b[49m\u001b[43m(\u001b[49m\u001b[38;5;28;43mself\u001b[39;49m\u001b[38;5;241;43m.\u001b[39;49m\u001b[43mtemplate\u001b[49m\u001b[43m,\u001b[49m\u001b[43m \u001b[49m\u001b[38;5;241;43m*\u001b[39;49m\u001b[38;5;241;43m*\u001b[39;49m\u001b[43mkwargs\u001b[49m\u001b[43m)\u001b[49m\n",
      "File \u001b[0;32m~/miniconda3/envs/nlp/lib/python3.12/string.py:190\u001b[0m, in \u001b[0;36mFormatter.format\u001b[0;34m(self, format_string, *args, **kwargs)\u001b[0m\n\u001b[1;32m    189\u001b[0m \u001b[38;5;28;01mdef\u001b[39;00m \u001b[38;5;21mformat\u001b[39m(\u001b[38;5;28mself\u001b[39m, format_string, \u001b[38;5;241m/\u001b[39m, \u001b[38;5;241m*\u001b[39margs, \u001b[38;5;241m*\u001b[39m\u001b[38;5;241m*\u001b[39mkwargs):\n\u001b[0;32m--> 190\u001b[0m     \u001b[38;5;28;01mreturn\u001b[39;00m \u001b[38;5;28;43mself\u001b[39;49m\u001b[38;5;241;43m.\u001b[39;49m\u001b[43mvformat\u001b[49m\u001b[43m(\u001b[49m\u001b[43mformat_string\u001b[49m\u001b[43m,\u001b[49m\u001b[43m \u001b[49m\u001b[43margs\u001b[49m\u001b[43m,\u001b[49m\u001b[43m \u001b[49m\u001b[43mkwargs\u001b[49m\u001b[43m)\u001b[49m\n",
      "File \u001b[0;32m~/miniconda3/envs/nlp/lib/python3.12/site-packages/langchain_core/utils/formatting.py:18\u001b[0m, in \u001b[0;36mStrictFormatter.vformat\u001b[0;34m(self, format_string, args, kwargs)\u001b[0m\n\u001b[1;32m     13\u001b[0m \u001b[38;5;28;01mif\u001b[39;00m \u001b[38;5;28mlen\u001b[39m(args) \u001b[38;5;241m>\u001b[39m \u001b[38;5;241m0\u001b[39m:\n\u001b[1;32m     14\u001b[0m     \u001b[38;5;28;01mraise\u001b[39;00m \u001b[38;5;167;01mValueError\u001b[39;00m(\n\u001b[1;32m     15\u001b[0m         \u001b[38;5;124m\"\u001b[39m\u001b[38;5;124mNo arguments should be provided, \u001b[39m\u001b[38;5;124m\"\u001b[39m\n\u001b[1;32m     16\u001b[0m         \u001b[38;5;124m\"\u001b[39m\u001b[38;5;124meverything should be passed as keyword arguments.\u001b[39m\u001b[38;5;124m\"\u001b[39m\n\u001b[1;32m     17\u001b[0m     )\n\u001b[0;32m---> 18\u001b[0m \u001b[38;5;28;01mreturn\u001b[39;00m \u001b[38;5;28;43msuper\u001b[39;49m\u001b[43m(\u001b[49m\u001b[43m)\u001b[49m\u001b[38;5;241;43m.\u001b[39;49m\u001b[43mvformat\u001b[49m\u001b[43m(\u001b[49m\u001b[43mformat_string\u001b[49m\u001b[43m,\u001b[49m\u001b[43m \u001b[49m\u001b[43margs\u001b[49m\u001b[43m,\u001b[49m\u001b[43m \u001b[49m\u001b[43mkwargs\u001b[49m\u001b[43m)\u001b[49m\n",
      "File \u001b[0;32m~/miniconda3/envs/nlp/lib/python3.12/string.py:194\u001b[0m, in \u001b[0;36mFormatter.vformat\u001b[0;34m(self, format_string, args, kwargs)\u001b[0m\n\u001b[1;32m    192\u001b[0m \u001b[38;5;28;01mdef\u001b[39;00m \u001b[38;5;21mvformat\u001b[39m(\u001b[38;5;28mself\u001b[39m, format_string, args, kwargs):\n\u001b[1;32m    193\u001b[0m     used_args \u001b[38;5;241m=\u001b[39m \u001b[38;5;28mset\u001b[39m()\n\u001b[0;32m--> 194\u001b[0m     result, _ \u001b[38;5;241m=\u001b[39m \u001b[38;5;28;43mself\u001b[39;49m\u001b[38;5;241;43m.\u001b[39;49m\u001b[43m_vformat\u001b[49m\u001b[43m(\u001b[49m\u001b[43mformat_string\u001b[49m\u001b[43m,\u001b[49m\u001b[43m \u001b[49m\u001b[43margs\u001b[49m\u001b[43m,\u001b[49m\u001b[43m \u001b[49m\u001b[43mkwargs\u001b[49m\u001b[43m,\u001b[49m\u001b[43m \u001b[49m\u001b[43mused_args\u001b[49m\u001b[43m,\u001b[49m\u001b[43m \u001b[49m\u001b[38;5;241;43m2\u001b[39;49m\u001b[43m)\u001b[49m\n\u001b[1;32m    195\u001b[0m     \u001b[38;5;28mself\u001b[39m\u001b[38;5;241m.\u001b[39mcheck_unused_args(used_args, args, kwargs)\n\u001b[1;32m    196\u001b[0m     \u001b[38;5;28;01mreturn\u001b[39;00m result\n",
      "File \u001b[0;32m~/miniconda3/envs/nlp/lib/python3.12/string.py:234\u001b[0m, in \u001b[0;36mFormatter._vformat\u001b[0;34m(self, format_string, args, kwargs, used_args, recursion_depth, auto_arg_index)\u001b[0m\n\u001b[1;32m    230\u001b[0m     auto_arg_index \u001b[38;5;241m=\u001b[39m \u001b[38;5;28;01mFalse\u001b[39;00m\n\u001b[1;32m    232\u001b[0m \u001b[38;5;66;03m# given the field_name, find the object it references\u001b[39;00m\n\u001b[1;32m    233\u001b[0m \u001b[38;5;66;03m#  and the argument it came from\u001b[39;00m\n\u001b[0;32m--> 234\u001b[0m obj, arg_used \u001b[38;5;241m=\u001b[39m \u001b[38;5;28;43mself\u001b[39;49m\u001b[38;5;241;43m.\u001b[39;49m\u001b[43mget_field\u001b[49m\u001b[43m(\u001b[49m\u001b[43mfield_name\u001b[49m\u001b[43m,\u001b[49m\u001b[43m \u001b[49m\u001b[43margs\u001b[49m\u001b[43m,\u001b[49m\u001b[43m \u001b[49m\u001b[43mkwargs\u001b[49m\u001b[43m)\u001b[49m\n\u001b[1;32m    235\u001b[0m used_args\u001b[38;5;241m.\u001b[39madd(arg_used)\n\u001b[1;32m    237\u001b[0m \u001b[38;5;66;03m# do any conversion on the resulting object\u001b[39;00m\n",
      "File \u001b[0;32m~/miniconda3/envs/nlp/lib/python3.12/string.py:299\u001b[0m, in \u001b[0;36mFormatter.get_field\u001b[0;34m(self, field_name, args, kwargs)\u001b[0m\n\u001b[1;32m    296\u001b[0m \u001b[38;5;28;01mdef\u001b[39;00m \u001b[38;5;21mget_field\u001b[39m(\u001b[38;5;28mself\u001b[39m, field_name, args, kwargs):\n\u001b[1;32m    297\u001b[0m     first, rest \u001b[38;5;241m=\u001b[39m _string\u001b[38;5;241m.\u001b[39mformatter_field_name_split(field_name)\n\u001b[0;32m--> 299\u001b[0m     obj \u001b[38;5;241m=\u001b[39m \u001b[38;5;28;43mself\u001b[39;49m\u001b[38;5;241;43m.\u001b[39;49m\u001b[43mget_value\u001b[49m\u001b[43m(\u001b[49m\u001b[43mfirst\u001b[49m\u001b[43m,\u001b[49m\u001b[43m \u001b[49m\u001b[43margs\u001b[49m\u001b[43m,\u001b[49m\u001b[43m \u001b[49m\u001b[43mkwargs\u001b[49m\u001b[43m)\u001b[49m\n\u001b[1;32m    301\u001b[0m     \u001b[38;5;66;03m# loop through the rest of the field_name, doing\u001b[39;00m\n\u001b[1;32m    302\u001b[0m     \u001b[38;5;66;03m#  getattr or getitem as needed\u001b[39;00m\n\u001b[1;32m    303\u001b[0m     \u001b[38;5;28;01mfor\u001b[39;00m is_attr, i \u001b[38;5;129;01min\u001b[39;00m rest:\n",
      "File \u001b[0;32m~/miniconda3/envs/nlp/lib/python3.12/string.py:256\u001b[0m, in \u001b[0;36mFormatter.get_value\u001b[0;34m(self, key, args, kwargs)\u001b[0m\n\u001b[1;32m    254\u001b[0m     \u001b[38;5;28;01mreturn\u001b[39;00m args[key]\n\u001b[1;32m    255\u001b[0m \u001b[38;5;28;01melse\u001b[39;00m:\n\u001b[0;32m--> 256\u001b[0m     \u001b[38;5;28;01mreturn\u001b[39;00m \u001b[43mkwargs\u001b[49m\u001b[43m[\u001b[49m\u001b[43mkey\u001b[49m\u001b[43m]\u001b[49m\n",
      "\u001b[0;31mKeyError\u001b[0m: 'instructions'"
     ]
    }
   ],
   "source": [
    "graph_analyst_template = SystemMessagePromptTemplate.from_template(template=graph_creator_content,\n",
    "                                                    input_variables=['history'],\n",
    "                                                    partial_variables={'instructions': json_prompt_instructions})\n",
    "graph_analyst_template.format(history='history')\n",
    "\n"
   ]
  }
 ],
 "metadata": {
  "kernelspec": {
   "display_name": "nlp",
   "language": "python",
   "name": "python3"
  },
  "language_info": {
   "codemirror_mode": {
    "name": "ipython",
    "version": 3
   },
   "file_extension": ".py",
   "mimetype": "text/x-python",
   "name": "python",
   "nbconvert_exporter": "python",
   "pygments_lexer": "ipython3",
   "version": "3.12.2"
  }
 },
 "nbformat": 4,
 "nbformat_minor": 2
}
